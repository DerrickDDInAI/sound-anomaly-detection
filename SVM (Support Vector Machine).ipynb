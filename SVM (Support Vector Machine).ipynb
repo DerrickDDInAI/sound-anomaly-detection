{
 "cells": [
  {
   "cell_type": "code",
   "execution_count": 23,
   "id": "collective-mills",
   "metadata": {},
   "outputs": [],
   "source": [
    "#import of libraries\n",
    "import pandas as pd\n",
    "import numpy as np\n",
    "import sklearn\n",
    "from sklearn.model_selection import train_test_split\n",
    "from sklearn import preprocessing\n",
    "import seaborn as sn\n",
    "import matplotlib.pyplot as plt"
   ]
  },
  {
   "cell_type": "code",
   "execution_count": 24,
   "id": "enclosed-homework",
   "metadata": {},
   "outputs": [],
   "source": [
    "df = pd.read_csv('data_audio_f_mean.csv')"
   ]
  },
  {
   "cell_type": "code",
   "execution_count": 25,
   "id": "offshore-insulation",
   "metadata": {},
   "outputs": [],
   "source": [
    "df_test = df.iloc[:, 5:df.shape[1]]\n",
    "df_test[\"target\"].replace({\"abnormal\": \"1\", \"normal\": \"0\"}, inplace=True)\n",
    "df_test = df_test.astype({\"target\": int})"
   ]
  },
  {
   "cell_type": "code",
   "execution_count": 26,
   "id": "metric-engineering",
   "metadata": {},
   "outputs": [
    {
     "data": {
      "text/html": [
       "<div>\n",
       "<style scoped>\n",
       "    .dataframe tbody tr th:only-of-type {\n",
       "        vertical-align: middle;\n",
       "    }\n",
       "\n",
       "    .dataframe tbody tr th {\n",
       "        vertical-align: top;\n",
       "    }\n",
       "\n",
       "    .dataframe thead th {\n",
       "        text-align: right;\n",
       "    }\n",
       "</style>\n",
       "<table border=\"1\" class=\"dataframe\">\n",
       "  <thead>\n",
       "    <tr style=\"text-align: right;\">\n",
       "      <th></th>\n",
       "      <th>target</th>\n",
       "      <th>spectogram</th>\n",
       "      <th>mel_spectogram</th>\n",
       "      <th>chromagram</th>\n",
       "      <th>chromagram_cq</th>\n",
       "      <th>chromagram_cens</th>\n",
       "      <th>mfcc</th>\n",
       "      <th>rms</th>\n",
       "      <th>spectral_centroid</th>\n",
       "      <th>spectral_bandwidth</th>\n",
       "      <th>spectral_contrast</th>\n",
       "      <th>spectral_flatness</th>\n",
       "      <th>roll_off_frequency</th>\n",
       "      <th>tonnetz</th>\n",
       "      <th>zero_crossing_rate</th>\n",
       "    </tr>\n",
       "  </thead>\n",
       "  <tbody>\n",
       "    <tr>\n",
       "      <th>0</th>\n",
       "      <td>1</td>\n",
       "      <td>0.095985</td>\n",
       "      <td>0.032898</td>\n",
       "      <td>0.598389</td>\n",
       "      <td>0.335931</td>\n",
       "      <td>0.251026</td>\n",
       "      <td>-4.151321</td>\n",
       "      <td>0.007211</td>\n",
       "      <td>1391.829492</td>\n",
       "      <td>1770.435764</td>\n",
       "      <td>23.832949</td>\n",
       "      <td>0.000225</td>\n",
       "      <td>5660.559507</td>\n",
       "      <td>0.065789</td>\n",
       "      <td>0.053984</td>\n",
       "    </tr>\n",
       "    <tr>\n",
       "      <th>1</th>\n",
       "      <td>1</td>\n",
       "      <td>0.083133</td>\n",
       "      <td>0.034875</td>\n",
       "      <td>0.549378</td>\n",
       "      <td>0.386137</td>\n",
       "      <td>0.243251</td>\n",
       "      <td>-4.259758</td>\n",
       "      <td>0.007428</td>\n",
       "      <td>1127.738463</td>\n",
       "      <td>1574.488895</td>\n",
       "      <td>24.478842</td>\n",
       "      <td>0.000103</td>\n",
       "      <td>5120.156046</td>\n",
       "      <td>0.024099</td>\n",
       "      <td>0.043520</td>\n",
       "    </tr>\n",
       "    <tr>\n",
       "      <th>2</th>\n",
       "      <td>1</td>\n",
       "      <td>0.120339</td>\n",
       "      <td>0.027383</td>\n",
       "      <td>0.776584</td>\n",
       "      <td>0.321334</td>\n",
       "      <td>0.255388</td>\n",
       "      <td>-3.331495</td>\n",
       "      <td>0.006812</td>\n",
       "      <td>1804.463937</td>\n",
       "      <td>1813.068302</td>\n",
       "      <td>22.781830</td>\n",
       "      <td>0.000449</td>\n",
       "      <td>5696.131759</td>\n",
       "      <td>0.076063</td>\n",
       "      <td>0.084253</td>\n",
       "    </tr>\n",
       "    <tr>\n",
       "      <th>3</th>\n",
       "      <td>1</td>\n",
       "      <td>0.095124</td>\n",
       "      <td>0.046161</td>\n",
       "      <td>0.757323</td>\n",
       "      <td>0.373222</td>\n",
       "      <td>0.246073</td>\n",
       "      <td>-3.485691</td>\n",
       "      <td>0.008451</td>\n",
       "      <td>893.927245</td>\n",
       "      <td>1230.738677</td>\n",
       "      <td>21.108826</td>\n",
       "      <td>0.000061</td>\n",
       "      <td>3657.546948</td>\n",
       "      <td>0.044300</td>\n",
       "      <td>0.029228</td>\n",
       "    </tr>\n",
       "    <tr>\n",
       "      <th>4</th>\n",
       "      <td>1</td>\n",
       "      <td>0.132093</td>\n",
       "      <td>0.023357</td>\n",
       "      <td>0.862880</td>\n",
       "      <td>0.295585</td>\n",
       "      <td>0.250950</td>\n",
       "      <td>-3.539014</td>\n",
       "      <td>0.006496</td>\n",
       "      <td>2297.372342</td>\n",
       "      <td>1980.079305</td>\n",
       "      <td>22.923389</td>\n",
       "      <td>0.000795</td>\n",
       "      <td>6358.914758</td>\n",
       "      <td>0.077573</td>\n",
       "      <td>0.116914</td>\n",
       "    </tr>\n",
       "  </tbody>\n",
       "</table>\n",
       "</div>"
      ],
      "text/plain": [
       "   target  spectogram  mel_spectogram  chromagram  chromagram_cq  \\\n",
       "0       1    0.095985        0.032898    0.598389       0.335931   \n",
       "1       1    0.083133        0.034875    0.549378       0.386137   \n",
       "2       1    0.120339        0.027383    0.776584       0.321334   \n",
       "3       1    0.095124        0.046161    0.757323       0.373222   \n",
       "4       1    0.132093        0.023357    0.862880       0.295585   \n",
       "\n",
       "   chromagram_cens      mfcc       rms  spectral_centroid  spectral_bandwidth  \\\n",
       "0         0.251026 -4.151321  0.007211        1391.829492         1770.435764   \n",
       "1         0.243251 -4.259758  0.007428        1127.738463         1574.488895   \n",
       "2         0.255388 -3.331495  0.006812        1804.463937         1813.068302   \n",
       "3         0.246073 -3.485691  0.008451         893.927245         1230.738677   \n",
       "4         0.250950 -3.539014  0.006496        2297.372342         1980.079305   \n",
       "\n",
       "   spectral_contrast  spectral_flatness  roll_off_frequency   tonnetz  \\\n",
       "0          23.832949           0.000225         5660.559507  0.065789   \n",
       "1          24.478842           0.000103         5120.156046  0.024099   \n",
       "2          22.781830           0.000449         5696.131759  0.076063   \n",
       "3          21.108826           0.000061         3657.546948  0.044300   \n",
       "4          22.923389           0.000795         6358.914758  0.077573   \n",
       "\n",
       "   zero_crossing_rate  \n",
       "0            0.053984  \n",
       "1            0.043520  \n",
       "2            0.084253  \n",
       "3            0.029228  \n",
       "4            0.116914  "
      ]
     },
     "execution_count": 26,
     "metadata": {},
     "output_type": "execute_result"
    }
   ],
   "source": [
    "df_test.head()"
   ]
  },
  {
   "cell_type": "code",
   "execution_count": 12,
   "id": "subtle-modern",
   "metadata": {},
   "outputs": [
    {
     "name": "stdout",
     "output_type": "stream",
     "text": [
      "'X' shape: (54057, 13)\n",
      "'y' shape: (54057,)\n"
     ]
    }
   ],
   "source": [
    "from sklearn.model_selection import cross_val_score, train_test_split\n",
    "from sklearn.pipeline import Pipeline\n",
    "from sklearn.preprocessing import StandardScaler, MinMaxScaler\n",
    "\n",
    "X = df_test.drop('target', axis=1)\n",
    "y = df_test.target\n",
    "\n",
    "print(f\"'X' shape: {X.shape}\")\n",
    "print(f\"'y' shape: {y.shape}\")\n",
    "\n",
    "pipeline = Pipeline([\n",
    "    ('min_max_scaler', MinMaxScaler()),\n",
    "    ('std_scaler', StandardScaler())\n",
    "])\n",
    "\n",
    "X_train, X_test, y_train, y_test = train_test_split(X, y, test_size=0.3, random_state=42)"
   ]
  },
  {
   "cell_type": "code",
   "execution_count": 13,
   "id": "particular-luxury",
   "metadata": {},
   "outputs": [],
   "source": [
    "from sklearn.metrics import accuracy_score, confusion_matrix, classification_report\n",
    "\n",
    "def print_score(clf, X_train, y_train, X_test, y_test, train=True):\n",
    "    if train:\n",
    "        pred = clf.predict(X_train)\n",
    "        clf_report = pd.DataFrame(classification_report(y_train, pred, output_dict=True))\n",
    "        print(\"Train Result:\\n================================================\")\n",
    "        print(f\"Accuracy Score: {accuracy_score(y_train, pred) * 100:.2f}%\")\n",
    "        print(\"_______________________________________________\")\n",
    "        print(f\"CLASSIFICATION REPORT:\\n{clf_report}\")\n",
    "        print(\"_______________________________________________\")\n",
    "        print(f\"Confusion Matrix: \\n {confusion_matrix(y_train, pred)}\\n\")\n",
    "        \n",
    "    elif train==False:\n",
    "        pred = clf.predict(X_test)\n",
    "        clf_report = pd.DataFrame(classification_report(y_test, pred, output_dict=True))\n",
    "        print(\"Test Result:\\n================================================\")        \n",
    "        print(f\"Accuracy Score: {accuracy_score(y_test, pred) * 100:.2f}%\")\n",
    "        print(\"_______________________________________________\")\n",
    "        print(f\"CLASSIFICATION REPORT:\\n{clf_report}\")\n",
    "        print(\"_______________________________________________\")\n",
    "        print(f\"Confusion Matrix: \\n {confusion_matrix(y_test, pred)}\\n\")"
   ]
  },
  {
   "cell_type": "code",
   "execution_count": 14,
   "id": "purple-victim",
   "metadata": {},
   "outputs": [
    {
     "name": "stdout",
     "output_type": "stream",
     "text": [
      "Train Result:\n",
      "================================================\n",
      "Accuracy Score: 81.69%\n",
      "_______________________________________________\n",
      "CLASSIFICATION REPORT:\n",
      "                      0       1  accuracy     macro avg  weighted avg\n",
      "precision      0.816882     0.0  0.816882      0.408441      0.667296\n",
      "recall         1.000000     0.0  0.816882      0.500000      0.816882\n",
      "f1-score       0.899213     0.0  0.816882      0.449607      0.734551\n",
      "support    30910.000000  6929.0  0.816882  37839.000000  37839.000000\n",
      "_______________________________________________\n",
      "Confusion Matrix: \n",
      " [[30910     0]\n",
      " [ 6929     0]]\n",
      "\n",
      "Test Result:\n",
      "================================================\n",
      "Accuracy Score: 81.68%\n",
      "_______________________________________________\n",
      "CLASSIFICATION REPORT:\n",
      "                      0       1  accuracy     macro avg  weighted avg\n",
      "precision      0.816808     0.0  0.816808      0.408404      0.667176\n",
      "recall         1.000000     0.0  0.816808      0.500000      0.816808\n",
      "f1-score       0.899169     0.0  0.816808      0.449584      0.734448\n",
      "support    13247.000000  2971.0  0.816808  16218.000000  16218.000000\n",
      "_______________________________________________\n",
      "Confusion Matrix: \n",
      " [[13247     0]\n",
      " [ 2971     0]]\n",
      "\n"
     ]
    },
    {
     "name": "stderr",
     "output_type": "stream",
     "text": [
      "/home/ms/anaconda3/lib/python3.7/site-packages/sklearn/svm/_base.py:977: ConvergenceWarning: Liblinear failed to converge, increase the number of iterations.\n",
      "  \"the number of iterations.\", ConvergenceWarning)\n",
      "/home/ms/anaconda3/lib/python3.7/site-packages/sklearn/metrics/_classification.py:1221: UndefinedMetricWarning: Precision and F-score are ill-defined and being set to 0.0 in labels with no predicted samples. Use `zero_division` parameter to control this behavior.\n",
      "  _warn_prf(average, modifier, msg_start, len(result))\n",
      "/home/ms/anaconda3/lib/python3.7/site-packages/sklearn/metrics/_classification.py:1221: UndefinedMetricWarning: Precision and F-score are ill-defined and being set to 0.0 in labels with no predicted samples. Use `zero_division` parameter to control this behavior.\n",
      "  _warn_prf(average, modifier, msg_start, len(result))\n"
     ]
    }
   ],
   "source": [
    "from sklearn.svm import LinearSVC\n",
    "\n",
    "model = LinearSVC(loss='hinge', dual=True)\n",
    "model.fit(X_train, y_train)\n",
    "\n",
    "print_score(model, X_train, y_train, X_test, y_test, train=True)\n",
    "print_score(model, X_train, y_train, X_test, y_test, train=False)\n",
    "\n"
   ]
  },
  {
   "cell_type": "code",
   "execution_count": 17,
   "id": "minute-craft",
   "metadata": {},
   "outputs": [],
   "source": [
    "y_pred = model.predict(X_test)"
   ]
  },
  {
   "cell_type": "code",
   "execution_count": 20,
   "id": "unauthorized-evidence",
   "metadata": {},
   "outputs": [
    {
     "name": "stdout",
     "output_type": "stream",
     "text": [
      "              precision    recall  f1-score   support\n",
      "\n",
      "           0       0.82      1.00      0.90     13247\n",
      "           1       0.00      0.00      0.00      2971\n",
      "\n",
      "    accuracy                           0.82     16218\n",
      "   macro avg       0.41      0.50      0.45     16218\n",
      "weighted avg       0.67      0.82      0.73     16218\n",
      "\n"
     ]
    }
   ],
   "source": [
    "from sklearn.metrics import classification_report\n",
    "print(classification_report(y_test,y_pred))"
   ]
  },
  {
   "cell_type": "code",
   "execution_count": null,
   "id": "former-monte",
   "metadata": {},
   "outputs": [],
   "source": []
  }
 ],
 "metadata": {
  "kernelspec": {
   "display_name": "Python 3",
   "language": "python",
   "name": "python3"
  },
  "language_info": {
   "codemirror_mode": {
    "name": "ipython",
    "version": 3
   },
   "file_extension": ".py",
   "mimetype": "text/x-python",
   "name": "python",
   "nbconvert_exporter": "python",
   "pygments_lexer": "ipython3",
   "version": "3.7.7"
  }
 },
 "nbformat": 4,
 "nbformat_minor": 5
}
