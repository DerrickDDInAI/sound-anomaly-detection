{
 "cells": [
  {
   "cell_type": "code",
   "execution_count": 1,
   "id": "eight-saver",
   "metadata": {},
   "outputs": [],
   "source": [
    "#import of libraries\n",
    "import pandas as pd\n",
    "import numpy as np\n",
    "import sklearn\n",
    "from sklearn.model_selection import train_test_split\n",
    "from sklearn import preprocessing\n",
    "import seaborn as sn\n",
    "import matplotlib.pyplot as plt"
   ]
  },
  {
   "cell_type": "code",
   "execution_count": 2,
   "id": "representative-agency",
   "metadata": {},
   "outputs": [],
   "source": [
    "df = pd.read_csv('data_audio_f_mean.csv')"
   ]
  },
  {
   "cell_type": "code",
   "execution_count": 3,
   "id": "harmful-specification",
   "metadata": {},
   "outputs": [],
   "source": [
    "df_test = df.iloc[:, 5:19]\n",
    "df_test[\"target\"].replace({\"abnormal\": \"1\", \"normal\": \"0\"}, inplace=True)\n",
    "df_test = df_test.astype({\"target\": int})\n",
    "y = df_test['target']\n",
    "df_test = df_test.drop('target', 1)"
   ]
  },
  {
   "cell_type": "code",
   "execution_count": 4,
   "id": "chief-collar",
   "metadata": {},
   "outputs": [
    {
     "data": {
      "text/html": [
       "<div>\n",
       "<style scoped>\n",
       "    .dataframe tbody tr th:only-of-type {\n",
       "        vertical-align: middle;\n",
       "    }\n",
       "\n",
       "    .dataframe tbody tr th {\n",
       "        vertical-align: top;\n",
       "    }\n",
       "\n",
       "    .dataframe thead th {\n",
       "        text-align: right;\n",
       "    }\n",
       "</style>\n",
       "<table border=\"1\" class=\"dataframe\">\n",
       "  <thead>\n",
       "    <tr style=\"text-align: right;\">\n",
       "      <th></th>\n",
       "      <th>spectogram</th>\n",
       "      <th>mel_spectogram</th>\n",
       "      <th>chromagram</th>\n",
       "      <th>chromagram_cq</th>\n",
       "      <th>chromagram_cens</th>\n",
       "      <th>mfcc</th>\n",
       "      <th>rms</th>\n",
       "      <th>spectral_centroid</th>\n",
       "      <th>spectral_bandwidth</th>\n",
       "      <th>spectral_contrast</th>\n",
       "      <th>spectral_flatness</th>\n",
       "      <th>roll_off_frequency</th>\n",
       "      <th>tonnetz</th>\n",
       "    </tr>\n",
       "  </thead>\n",
       "  <tbody>\n",
       "    <tr>\n",
       "      <th>0</th>\n",
       "      <td>0.095985</td>\n",
       "      <td>0.032898</td>\n",
       "      <td>0.598389</td>\n",
       "      <td>0.335931</td>\n",
       "      <td>0.251026</td>\n",
       "      <td>-4.151321</td>\n",
       "      <td>0.007211</td>\n",
       "      <td>1391.829492</td>\n",
       "      <td>1770.435764</td>\n",
       "      <td>23.832949</td>\n",
       "      <td>0.000225</td>\n",
       "      <td>5660.559507</td>\n",
       "      <td>0.065789</td>\n",
       "    </tr>\n",
       "    <tr>\n",
       "      <th>1</th>\n",
       "      <td>0.083133</td>\n",
       "      <td>0.034875</td>\n",
       "      <td>0.549378</td>\n",
       "      <td>0.386137</td>\n",
       "      <td>0.243251</td>\n",
       "      <td>-4.259758</td>\n",
       "      <td>0.007428</td>\n",
       "      <td>1127.738463</td>\n",
       "      <td>1574.488895</td>\n",
       "      <td>24.478842</td>\n",
       "      <td>0.000103</td>\n",
       "      <td>5120.156046</td>\n",
       "      <td>0.024099</td>\n",
       "    </tr>\n",
       "    <tr>\n",
       "      <th>2</th>\n",
       "      <td>0.120339</td>\n",
       "      <td>0.027383</td>\n",
       "      <td>0.776584</td>\n",
       "      <td>0.321334</td>\n",
       "      <td>0.255388</td>\n",
       "      <td>-3.331495</td>\n",
       "      <td>0.006812</td>\n",
       "      <td>1804.463937</td>\n",
       "      <td>1813.068302</td>\n",
       "      <td>22.781830</td>\n",
       "      <td>0.000449</td>\n",
       "      <td>5696.131759</td>\n",
       "      <td>0.076063</td>\n",
       "    </tr>\n",
       "    <tr>\n",
       "      <th>3</th>\n",
       "      <td>0.095124</td>\n",
       "      <td>0.046161</td>\n",
       "      <td>0.757323</td>\n",
       "      <td>0.373222</td>\n",
       "      <td>0.246073</td>\n",
       "      <td>-3.485691</td>\n",
       "      <td>0.008451</td>\n",
       "      <td>893.927245</td>\n",
       "      <td>1230.738677</td>\n",
       "      <td>21.108826</td>\n",
       "      <td>0.000061</td>\n",
       "      <td>3657.546948</td>\n",
       "      <td>0.044300</td>\n",
       "    </tr>\n",
       "    <tr>\n",
       "      <th>4</th>\n",
       "      <td>0.132093</td>\n",
       "      <td>0.023357</td>\n",
       "      <td>0.862880</td>\n",
       "      <td>0.295585</td>\n",
       "      <td>0.250950</td>\n",
       "      <td>-3.539014</td>\n",
       "      <td>0.006496</td>\n",
       "      <td>2297.372342</td>\n",
       "      <td>1980.079305</td>\n",
       "      <td>22.923389</td>\n",
       "      <td>0.000795</td>\n",
       "      <td>6358.914758</td>\n",
       "      <td>0.077573</td>\n",
       "    </tr>\n",
       "  </tbody>\n",
       "</table>\n",
       "</div>"
      ],
      "text/plain": [
       "   spectogram  mel_spectogram  chromagram  chromagram_cq  chromagram_cens  \\\n",
       "0    0.095985        0.032898    0.598389       0.335931         0.251026   \n",
       "1    0.083133        0.034875    0.549378       0.386137         0.243251   \n",
       "2    0.120339        0.027383    0.776584       0.321334         0.255388   \n",
       "3    0.095124        0.046161    0.757323       0.373222         0.246073   \n",
       "4    0.132093        0.023357    0.862880       0.295585         0.250950   \n",
       "\n",
       "       mfcc       rms  spectral_centroid  spectral_bandwidth  \\\n",
       "0 -4.151321  0.007211        1391.829492         1770.435764   \n",
       "1 -4.259758  0.007428        1127.738463         1574.488895   \n",
       "2 -3.331495  0.006812        1804.463937         1813.068302   \n",
       "3 -3.485691  0.008451         893.927245         1230.738677   \n",
       "4 -3.539014  0.006496        2297.372342         1980.079305   \n",
       "\n",
       "   spectral_contrast  spectral_flatness  roll_off_frequency   tonnetz  \n",
       "0          23.832949           0.000225         5660.559507  0.065789  \n",
       "1          24.478842           0.000103         5120.156046  0.024099  \n",
       "2          22.781830           0.000449         5696.131759  0.076063  \n",
       "3          21.108826           0.000061         3657.546948  0.044300  \n",
       "4          22.923389           0.000795         6358.914758  0.077573  "
      ]
     },
     "execution_count": 4,
     "metadata": {},
     "output_type": "execute_result"
    }
   ],
   "source": [
    "df_test.head()"
   ]
  },
  {
   "cell_type": "code",
   "execution_count": 5,
   "id": "activated-period",
   "metadata": {},
   "outputs": [],
   "source": [
    "from sklearn.preprocessing import StandardScaler\n",
    "features = df_test\n",
    "scaled_features = StandardScaler().fit_transform(features)"
   ]
  },
  {
   "cell_type": "code",
   "execution_count": 6,
   "id": "stretch-species",
   "metadata": {},
   "outputs": [],
   "source": [
    "from sklearn.decomposition import PCA"
   ]
  },
  {
   "cell_type": "code",
   "execution_count": 7,
   "id": "accurate-sherman",
   "metadata": {},
   "outputs": [],
   "source": [
    "pca = PCA(n_components=2)\n",
    "principalComponents = pca.fit_transform(scaled_features)"
   ]
  },
  {
   "cell_type": "code",
   "execution_count": 9,
   "id": "advisory-twelve",
   "metadata": {},
   "outputs": [
    {
     "data": {
      "text/plain": [
       "PCA(n_components=2)"
      ]
     },
     "execution_count": 9,
     "metadata": {},
     "output_type": "execute_result"
    }
   ],
   "source": [
    "pca"
   ]
  },
  {
   "cell_type": "code",
   "execution_count": null,
   "id": "pointed-consolidation",
   "metadata": {},
   "outputs": [],
   "source": []
  },
  {
   "cell_type": "code",
   "execution_count": null,
   "id": "subjective-socket",
   "metadata": {},
   "outputs": [],
   "source": []
  },
  {
   "cell_type": "code",
   "execution_count": null,
   "id": "bright-canvas",
   "metadata": {},
   "outputs": [],
   "source": []
  },
  {
   "cell_type": "code",
   "execution_count": null,
   "id": "genetic-impossible",
   "metadata": {},
   "outputs": [],
   "source": []
  }
 ],
 "metadata": {
  "kernelspec": {
   "display_name": "Python 3",
   "language": "python",
   "name": "python3"
  },
  "language_info": {
   "codemirror_mode": {
    "name": "ipython",
    "version": 3
   },
   "file_extension": ".py",
   "mimetype": "text/x-python",
   "name": "python",
   "nbconvert_exporter": "python",
   "pygments_lexer": "ipython3",
   "version": "3.7.7"
  }
 },
 "nbformat": 4,
 "nbformat_minor": 5
}
