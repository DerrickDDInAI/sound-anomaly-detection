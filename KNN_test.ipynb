{
 "cells": [
  {
   "cell_type": "code",
   "execution_count": 21,
   "id": "focal-haven",
   "metadata": {},
   "outputs": [],
   "source": [
    "import pandas as pd\n",
    "import numpy as np\n",
    "import sklearn\n",
    "from sklearn.model_selection import train_test_split\n",
    "from sklearn import preprocessing\n",
    "import seaborn as sn\n",
    "import matplotlib.pyplot as plt"
   ]
  },
  {
   "cell_type": "code",
   "execution_count": 22,
   "id": "statutory-deviation",
   "metadata": {},
   "outputs": [],
   "source": [
    "df = pd.read_csv('data_audio_f_mean.csv')"
   ]
  },
  {
   "cell_type": "code",
   "execution_count": 23,
   "id": "posted-refrigerator",
   "metadata": {},
   "outputs": [],
   "source": [
    "df_test = df.iloc[:, 5:19]"
   ]
  },
  {
   "cell_type": "code",
   "execution_count": 24,
   "id": "tender-congress",
   "metadata": {},
   "outputs": [],
   "source": [
    "df_test[\"target\"].replace({\"abnormal\": \"1\", \"normal\": \"0\"}, inplace=True)"
   ]
  },
  {
   "cell_type": "code",
   "execution_count": 25,
   "id": "committed-belly",
   "metadata": {},
   "outputs": [],
   "source": [
    "df_test = df_test.astype({\"target\": int})"
   ]
  },
  {
   "cell_type": "code",
   "execution_count": 26,
   "id": "specified-entrepreneur",
   "metadata": {},
   "outputs": [],
   "source": [
    "y = df_test['target']"
   ]
  },
  {
   "cell_type": "code",
   "execution_count": 27,
   "id": "recognized-attribute",
   "metadata": {},
   "outputs": [],
   "source": [
    "df_test = df_test.drop('target', 1)"
   ]
  },
  {
   "cell_type": "code",
   "execution_count": 28,
   "id": "distinguished-feature",
   "metadata": {},
   "outputs": [
    {
     "name": "stdout",
     "output_type": "stream",
     "text": [
      "(70651, 13) (70651,)\n",
      "(17663, 13) (17663,)\n"
     ]
    }
   ],
   "source": [
    "from imblearn.over_sampling import RandomOverSampler\n",
    "oversample = RandomOverSampler(sampling_strategy='auto')\n",
    "# fit and apply the transform\n",
    "X_over, y_over = oversample.fit_resample(df_test, y)\n",
    "\n",
    "# Split dataframe into random train and test subsets\n",
    "\n",
    "X_train, X_test, Y_train, Y_test = train_test_split(\n",
    "    X_over,\n",
    "    y_over,\n",
    "    test_size=0.2,\n",
    "    random_state=200\n",
    ")\n",
    "\n",
    "print(X_train.shape, Y_train.shape)\n",
    "print(X_test.shape, Y_test.shape)"
   ]
  },
  {
   "cell_type": "code",
   "execution_count": 21,
   "id": "specialized-documentary",
   "metadata": {},
   "outputs": [
    {
     "name": "stdout",
     "output_type": "stream",
     "text": [
      "(37839, 13) (37839,)\n",
      "(16218, 13) (16218,)\n"
     ]
    }
   ],
   "source": [
    "# Split dataframe into random train and test subsets\n",
    "\n",
    "X_train, X_test, Y_train, Y_test = train_test_split(\n",
    "    df_test,\n",
    "    y,\n",
    "    test_size=0.3,\n",
    "    random_state=200\n",
    ")\n",
    "\n",
    "print(X_train.shape, Y_train.shape)\n",
    "print(X_test.shape, Y_test.shape)"
   ]
  },
  {
   "cell_type": "code",
   "execution_count": 29,
   "id": "twelve-tribute",
   "metadata": {},
   "outputs": [],
   "source": [
    "from sklearn.neighbors import KNeighborsClassifier\n",
    "\n",
    "# Import metrics model to check the accuracy\n",
    "from sklearn import metrics\n",
    "\n",
    "# Try running from k=1 through 25 and record testing accuracy\n",
    "k_range = range(1,26)\n",
    "\n",
    "scores = {}\n",
    "scores_list = []\n",
    "\n",
    "for k in k_range:\n",
    "    knn = KNeighborsClassifier(n_neighbors=k)\n",
    "    knn.fit(X_train, Y_train)\n",
    "    y_pred = knn.predict(X_test)\n",
    "    scores[k] = metrics.accuracy_score(Y_test, y_pred)\n",
    "    scores_list.append(metrics.accuracy_score(Y_test, y_pred))"
   ]
  },
  {
   "cell_type": "code",
   "execution_count": 30,
   "id": "collaborative-durham",
   "metadata": {},
   "outputs": [
    {
     "data": {
      "image/png": "[encoded data removed]",
      "text/plain": [
       "<Figure size 432x288 with 1 Axes>"
      ]
     },
     "metadata": {
      "needs_background": "light"
     },
     "output_type": "display_data"
    }
   ],
   "source": [
    "# Evaluate your model\n",
    "\n",
    "%matplotlib inline\n",
    "import matplotlib.pyplot as plt\n",
    "\n",
    "# Plot the relationship between K and the testing accuracy\n",
    "plt.plot(k_range, scores_list);\n",
    "plt.xlabel('Value of K for KNN')\n",
    "plt.ylabel('Testing accuracy');"
   ]
  },
  {
   "cell_type": "code",
   "execution_count": 31,
   "id": "general-modeling",
   "metadata": {},
   "outputs": [
    {
     "name": "stdout",
     "output_type": "stream",
     "text": [
      "              precision    recall  f1-score   support\n",
      "\n",
      "           0       0.68      0.68      0.68      8861\n",
      "           1       0.68      0.68      0.68      8802\n",
      "\n",
      "    accuracy                           0.68     17663\n",
      "   macro avg       0.68      0.68      0.68     17663\n",
      "weighted avg       0.68      0.68      0.68     17663\n",
      "\n"
     ]
    }
   ],
   "source": [
    "from sklearn.metrics import classification_report\n",
    "print(classification_report(Y_test,y_pred))"
   ]
  },
  {
   "cell_type": "code",
   "execution_count": null,
   "id": "innocent-trunk",
   "metadata": {},
   "outputs": [],
   "source": []
  }
 ],
 "metadata": {
  "kernelspec": {
   "display_name": "Python 3",
   "language": "python",
   "name": "python3"
  },
  "language_info": {
   "codemirror_mode": {
    "name": "ipython",
    "version": 3
   },
   "file_extension": ".py",
   "mimetype": "text/x-python",
   "name": "python",
   "nbconvert_exporter": "python",
   "pygments_lexer": "ipython3",
   "version": "3.7.7"
  }
 },
 "nbformat": 4,
 "nbformat_minor": 5
}
