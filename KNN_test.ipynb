{
 "cells": [
  {
   "cell_type": "code",
   "execution_count": 2,
   "id": "electric-mailing",
   "metadata": {},
   "outputs": [],
   "source": [
    "# Import libraries\n",
    "import sklearn\n",
    "from sklearn import datasets\n",
    "import pandas as pd\n",
    "import numpy as np"
   ]
  },
  {
   "cell_type": "code",
   "execution_count": 3,
   "id": "entitled-myrtle",
   "metadata": {},
   "outputs": [],
   "source": [
    "df = pd.read_csv('data_audio_f_mean.csv')"
   ]
  },
  {
   "cell_type": "code",
   "execution_count": 7,
   "id": "unsigned-davis",
   "metadata": {},
   "outputs": [],
   "source": [
    "df_test = df.iloc[:, 5:19]"
   ]
  },
  {
   "cell_type": "code",
   "execution_count": 8,
   "id": "otherwise-freedom",
   "metadata": {},
   "outputs": [],
   "source": [
    "df_test[\"target\"].replace({\"abnormal\": \"1\", \"normal\": \"0\"}, inplace=True)"
   ]
  },
  {
   "cell_type": "code",
   "execution_count": 9,
   "id": "indie-surface",
   "metadata": {},
   "outputs": [],
   "source": [
    "df_test = df_test.astype({\"target\": int})"
   ]
  },
  {
   "cell_type": "code",
   "execution_count": 10,
   "id": "upper-poland",
   "metadata": {},
   "outputs": [],
   "source": [
    "y = df_test['target']"
   ]
  },
  {
   "cell_type": "code",
   "execution_count": 11,
   "id": "independent-editor",
   "metadata": {},
   "outputs": [],
   "source": [
    "df_test = df_test.drop('target', 1)"
   ]
  },
  {
   "cell_type": "code",
   "execution_count": 21,
   "id": "heard-exclusion",
   "metadata": {},
   "outputs": [
    {
     "name": "stdout",
     "output_type": "stream",
     "text": [
      "(37839, 13) (37839,)\n",
      "(16218, 13) (16218,)\n"
     ]
    }
   ],
   "source": [
    "# Split dataframe into random train and test subsets\n",
    "\n",
    "X_train, X_test, Y_train, Y_test = train_test_split(\n",
    "    df_test,\n",
    "    y,\n",
    "    test_size=0.3,\n",
    "    random_state=200\n",
    ")\n",
    "\n",
    "print(X_train.shape, Y_train.shape)\n",
    "print(X_test.shape, Y_test.shape)"
   ]
  },
  {
   "cell_type": "code",
   "execution_count": 22,
   "id": "graphic-pasta",
   "metadata": {},
   "outputs": [],
   "source": [
    "from sklearn.neighbors import KNeighborsClassifier\n",
    "\n",
    "# Import metrics model to check the accuracy\n",
    "from sklearn import metrics\n",
    "\n",
    "# Try running from k=1 through 25 and record testing accuracy\n",
    "k_range = range(1,26)\n",
    "\n",
    "scores = {}\n",
    "scores_list = []\n",
    "\n",
    "for k in k_range:\n",
    "    knn = KNeighborsClassifier(n_neighbors=k)\n",
    "    knn.fit(X_train, Y_train)\n",
    "    y_pred = knn.predict(X_test)\n",
    "    scores[k] = metrics.accuracy_score(Y_test, y_pred)\n",
    "    scores_list.append(metrics.accuracy_score(Y_test, y_pred))"
   ]
  },
  {
   "cell_type": "code",
   "execution_count": 23,
   "id": "administrative-liabilities",
   "metadata": {},
   "outputs": [
    {
     "data": {
      "image/png": "[encoded data removed]",
      "text/plain": [
       "<Figure size 432x288 with 1 Axes>"
      ]
     },
     "metadata": {
      "needs_background": "light"
     },
     "output_type": "display_data"
    }
   ],
   "source": [
    "# Evaluate your model\n",
    "\n",
    "%matplotlib inline\n",
    "import matplotlib.pyplot as plt\n",
    "\n",
    "# Plot the relationship between K and the testing accuracy\n",
    "plt.plot(k_range, scores_list);\n",
    "plt.xlabel('Value of K for KNN')\n",
    "plt.ylabel('Testing accuracy');"
   ]
  },
  {
   "cell_type": "code",
   "execution_count": 24,
   "id": "military-filling",
   "metadata": {},
   "outputs": [
    {
     "name": "stdout",
     "output_type": "stream",
     "text": [
      "              precision    recall  f1-score   support\n",
      "\n",
      "           0       0.83      0.98      0.90     13218\n",
      "           1       0.65      0.14      0.23      3000\n",
      "\n",
      "    accuracy                           0.83     16218\n",
      "   macro avg       0.74      0.56      0.56     16218\n",
      "weighted avg       0.80      0.83      0.78     16218\n",
      "\n"
     ]
    }
   ],
   "source": [
    "from sklearn.metrics import classification_report\n",
    "print(classification_report(Y_test,y_pred))"
   ]
  },
  {
   "cell_type": "code",
   "execution_count": null,
   "id": "pointed-publication",
   "metadata": {},
   "outputs": [],
   "source": []
  }
 ],
 "metadata": {
  "kernelspec": {
   "display_name": "Python 3",
   "language": "python",
   "name": "python3"
  },
  "language_info": {
   "codemirror_mode": {
    "name": "ipython",
    "version": 3
   },
   "file_extension": ".py",
   "mimetype": "text/x-python",
   "name": "python",
   "nbconvert_exporter": "python",
   "pygments_lexer": "ipython3",
   "version": "3.7.7"
  }
 },
 "nbformat": 4,
 "nbformat_minor": 5
}
