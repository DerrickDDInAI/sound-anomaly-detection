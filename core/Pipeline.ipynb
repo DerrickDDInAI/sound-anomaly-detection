{
 "cells": [
  {
   "cell_type": "markdown",
   "id": "familiar-barrier",
   "metadata": {},
   "source": [
    "## Import"
   ]
  },
  {
   "cell_type": "code",
   "execution_count": 127,
   "id": "legislative-clinton",
   "metadata": {},
   "outputs": [],
   "source": [
    "# Import internal modules\n",
    "import os.path\n",
    "import joblib\n",
    "import time\n",
    "from typing import List, Set, Dict, Tuple, Optional\n",
    "\n",
    "# Import 3rd party modules\n",
    "import pandas as pd\n",
    "import numpy as np\n",
    "import librosa\n",
    "import librosa.display\n",
    "import matplotlib.pyplot as plt\n",
    "from sklearn.model_selection import train_test_split, GridSearchCV\n",
    "from sklearn.preprocessing import StandardScaler, OneHotEncoder\n",
    "from sklearn.pipeline import make_pipeline\n",
    "from sklearn.metrics import classification_report, accuracy_score, recall_score, roc_auc_score, confusion_matrix, plot_confusion_matrix\n",
    "from sklearn.tree import DecisionTreeClassifier\n",
    "from sklearn.linear_model import LogisticRegression\n",
    "from sklearn.ensemble import RandomForestClassifier\n",
    "from sklearn.svm import SVC\n",
    "from imblearn.ensemble import BalancedRandomForestClassifier\n",
    "from xgboost import XGBClassifier\n",
    "from sklearn.model_selection import StratifiedKFold"
   ]
  },
  {
   "cell_type": "markdown",
   "id": "animated-multiple",
   "metadata": {},
   "source": [
    "## Load dataset"
   ]
  },
  {
   "cell_type": "code",
   "execution_count": 9,
   "id": "religious-steam",
   "metadata": {},
   "outputs": [
    {
     "data": {
      "text/html": [
       "<div>\n",
       "<style scoped>\n",
       "    .dataframe tbody tr th:only-of-type {\n",
       "        vertical-align: middle;\n",
       "    }\n",
       "\n",
       "    .dataframe tbody tr th {\n",
       "        vertical-align: top;\n",
       "    }\n",
       "\n",
       "    .dataframe thead th {\n",
       "        text-align: right;\n",
       "    }\n",
       "</style>\n",
       "<table border=\"1\" class=\"dataframe\">\n",
       "  <thead>\n",
       "    <tr style=\"text-align: right;\">\n",
       "      <th></th>\n",
       "      <th>noise_db</th>\n",
       "      <th>machine_type</th>\n",
       "      <th>model_id</th>\n",
       "      <th>sound</th>\n",
       "      <th>sound_path</th>\n",
       "      <th>target</th>\n",
       "      <th>spect_mean</th>\n",
       "      <th>spect_min</th>\n",
       "      <th>spect_max</th>\n",
       "      <th>spect_std</th>\n",
       "      <th>...</th>\n",
       "      <th>zero_crossing_rate_max</th>\n",
       "      <th>zero_crossing_rate_std</th>\n",
       "      <th>d_harmonic_mean</th>\n",
       "      <th>d_harmonic_min</th>\n",
       "      <th>d_harmonic_max</th>\n",
       "      <th>d_harmonic_std</th>\n",
       "      <th>d_percussive_mean</th>\n",
       "      <th>d_percussive_min</th>\n",
       "      <th>d_percussive_max</th>\n",
       "      <th>d_percussive_std</th>\n",
       "    </tr>\n",
       "  </thead>\n",
       "  <tbody>\n",
       "    <tr>\n",
       "      <th>0</th>\n",
       "      <td>-6</td>\n",
       "      <td>slider</td>\n",
       "      <td>0</td>\n",
       "      <td>00000000.wav</td>\n",
       "      <td>assets\\sounds\\-6_dB_slider\\slider\\id_00\\abnorm...</td>\n",
       "      <td>abnormal</td>\n",
       "      <td>0.107133</td>\n",
       "      <td>1.922508e-11</td>\n",
       "      <td>8.000317</td>\n",
       "      <td>0.286640</td>\n",
       "      <td>...</td>\n",
       "      <td>0.125488</td>\n",
       "      <td>0.015289</td>\n",
       "      <td>0.059173</td>\n",
       "      <td>1.413419e-12</td>\n",
       "      <td>7.861723</td>\n",
       "      <td>0.217199</td>\n",
       "      <td>0.047960</td>\n",
       "      <td>1.447360e-11</td>\n",
       "      <td>2.427006</td>\n",
       "      <td>0.102428</td>\n",
       "    </tr>\n",
       "    <tr>\n",
       "      <th>1</th>\n",
       "      <td>-6</td>\n",
       "      <td>slider</td>\n",
       "      <td>0</td>\n",
       "      <td>00000001.wav</td>\n",
       "      <td>assets\\sounds\\-6_dB_slider\\slider\\id_00\\abnorm...</td>\n",
       "      <td>abnormal</td>\n",
       "      <td>0.091550</td>\n",
       "      <td>1.239772e-10</td>\n",
       "      <td>11.825641</td>\n",
       "      <td>0.306949</td>\n",
       "      <td>...</td>\n",
       "      <td>0.122559</td>\n",
       "      <td>0.022209</td>\n",
       "      <td>0.051675</td>\n",
       "      <td>1.856747e-13</td>\n",
       "      <td>11.707416</td>\n",
       "      <td>0.261016</td>\n",
       "      <td>0.039876</td>\n",
       "      <td>7.817087e-11</td>\n",
       "      <td>2.639281</td>\n",
       "      <td>0.086876</td>\n",
       "    </tr>\n",
       "    <tr>\n",
       "      <th>2</th>\n",
       "      <td>-6</td>\n",
       "      <td>slider</td>\n",
       "      <td>0</td>\n",
       "      <td>00000002.wav</td>\n",
       "      <td>assets\\sounds\\-6_dB_slider\\slider\\id_00\\abnorm...</td>\n",
       "      <td>abnormal</td>\n",
       "      <td>0.114412</td>\n",
       "      <td>2.546376e-10</td>\n",
       "      <td>8.061798</td>\n",
       "      <td>0.300529</td>\n",
       "      <td>...</td>\n",
       "      <td>0.107422</td>\n",
       "      <td>0.013853</td>\n",
       "      <td>0.061442</td>\n",
       "      <td>5.859085e-13</td>\n",
       "      <td>7.840732</td>\n",
       "      <td>0.220184</td>\n",
       "      <td>0.052971</td>\n",
       "      <td>7.954731e-11</td>\n",
       "      <td>2.856351</td>\n",
       "      <td>0.114448</td>\n",
       "    </tr>\n",
       "    <tr>\n",
       "      <th>3</th>\n",
       "      <td>-6</td>\n",
       "      <td>slider</td>\n",
       "      <td>0</td>\n",
       "      <td>00000003.wav</td>\n",
       "      <td>assets\\sounds\\-6_dB_slider\\slider\\id_00\\abnorm...</td>\n",
       "      <td>abnormal</td>\n",
       "      <td>0.108589</td>\n",
       "      <td>6.224236e-11</td>\n",
       "      <td>7.651740</td>\n",
       "      <td>0.277428</td>\n",
       "      <td>...</td>\n",
       "      <td>0.125488</td>\n",
       "      <td>0.012602</td>\n",
       "      <td>0.064017</td>\n",
       "      <td>1.636899e-13</td>\n",
       "      <td>7.523073</td>\n",
       "      <td>0.240022</td>\n",
       "      <td>0.044573</td>\n",
       "      <td>2.057399e-11</td>\n",
       "      <td>1.847202</td>\n",
       "      <td>0.077006</td>\n",
       "    </tr>\n",
       "    <tr>\n",
       "      <th>4</th>\n",
       "      <td>-6</td>\n",
       "      <td>slider</td>\n",
       "      <td>0</td>\n",
       "      <td>00000004.wav</td>\n",
       "      <td>assets\\sounds\\-6_dB_slider\\slider\\id_00\\abnorm...</td>\n",
       "      <td>abnormal</td>\n",
       "      <td>0.107343</td>\n",
       "      <td>9.855214e-12</td>\n",
       "      <td>7.804570</td>\n",
       "      <td>0.287012</td>\n",
       "      <td>...</td>\n",
       "      <td>0.119141</td>\n",
       "      <td>0.010417</td>\n",
       "      <td>0.064301</td>\n",
       "      <td>1.400486e-13</td>\n",
       "      <td>7.756195</td>\n",
       "      <td>0.248836</td>\n",
       "      <td>0.043042</td>\n",
       "      <td>4.824911e-12</td>\n",
       "      <td>2.022621</td>\n",
       "      <td>0.079337</td>\n",
       "    </tr>\n",
       "  </tbody>\n",
       "</table>\n",
       "<p>5 rows × 70 columns</p>\n",
       "</div>"
      ],
      "text/plain": [
       "   noise_db machine_type  model_id         sound  \\\n",
       "0        -6       slider         0  00000000.wav   \n",
       "1        -6       slider         0  00000001.wav   \n",
       "2        -6       slider         0  00000002.wav   \n",
       "3        -6       slider         0  00000003.wav   \n",
       "4        -6       slider         0  00000004.wav   \n",
       "\n",
       "                                          sound_path    target  spect_mean  \\\n",
       "0  assets\\sounds\\-6_dB_slider\\slider\\id_00\\abnorm...  abnormal    0.107133   \n",
       "1  assets\\sounds\\-6_dB_slider\\slider\\id_00\\abnorm...  abnormal    0.091550   \n",
       "2  assets\\sounds\\-6_dB_slider\\slider\\id_00\\abnorm...  abnormal    0.114412   \n",
       "3  assets\\sounds\\-6_dB_slider\\slider\\id_00\\abnorm...  abnormal    0.108589   \n",
       "4  assets\\sounds\\-6_dB_slider\\slider\\id_00\\abnorm...  abnormal    0.107343   \n",
       "\n",
       "      spect_min  spect_max  spect_std  ...  zero_crossing_rate_max  \\\n",
       "0  1.922508e-11   8.000317   0.286640  ...                0.125488   \n",
       "1  1.239772e-10  11.825641   0.306949  ...                0.122559   \n",
       "2  2.546376e-10   8.061798   0.300529  ...                0.107422   \n",
       "3  6.224236e-11   7.651740   0.277428  ...                0.125488   \n",
       "4  9.855214e-12   7.804570   0.287012  ...                0.119141   \n",
       "\n",
       "   zero_crossing_rate_std  d_harmonic_mean  d_harmonic_min  d_harmonic_max  \\\n",
       "0                0.015289         0.059173    1.413419e-12        7.861723   \n",
       "1                0.022209         0.051675    1.856747e-13       11.707416   \n",
       "2                0.013853         0.061442    5.859085e-13        7.840732   \n",
       "3                0.012602         0.064017    1.636899e-13        7.523073   \n",
       "4                0.010417         0.064301    1.400486e-13        7.756195   \n",
       "\n",
       "   d_harmonic_std  d_percussive_mean  d_percussive_min  d_percussive_max  \\\n",
       "0        0.217199           0.047960      1.447360e-11          2.427006   \n",
       "1        0.261016           0.039876      7.817087e-11          2.639281   \n",
       "2        0.220184           0.052971      7.954731e-11          2.856351   \n",
       "3        0.240022           0.044573      2.057399e-11          1.847202   \n",
       "4        0.248836           0.043042      4.824911e-12          2.022621   \n",
       "\n",
       "   d_percussive_std  \n",
       "0          0.102428  \n",
       "1          0.086876  \n",
       "2          0.114448  \n",
       "3          0.077006  \n",
       "4          0.079337  \n",
       "\n",
       "[5 rows x 70 columns]"
      ]
     },
     "execution_count": 9,
     "metadata": {},
     "output_type": "execute_result"
    }
   ],
   "source": [
    "df = pd.read_csv(os.path.join(\"assets\",\"data\",\"thread_csv_all.csv\"))\n",
    "df.head()"
   ]
  },
  {
   "cell_type": "code",
   "execution_count": 165,
   "id": "governing-testing",
   "metadata": {},
   "outputs": [
    {
     "data": {
      "text/plain": [
       "(54057, 70)"
      ]
     },
     "execution_count": 165,
     "metadata": {},
     "output_type": "execute_result"
    }
   ],
   "source": [
    "df.shape"
   ]
  },
  {
   "cell_type": "markdown",
   "id": "comparable-wholesale",
   "metadata": {},
   "source": [
    "## Feature engineering "
   ]
  },
  {
   "cell_type": "code",
   "execution_count": 49,
   "id": "signed-scratch",
   "metadata": {},
   "outputs": [],
   "source": [
    "# Replace abnormal by 1, normal by 0\n",
    "df.target = df.target.apply(lambda x: 1 if x == \"abnormal\" else 0)"
   ]
  },
  {
   "cell_type": "markdown",
   "id": "annual-liverpool",
   "metadata": {},
   "source": [
    "## Feature selection"
   ]
  },
  {
   "cell_type": "code",
   "execution_count": 71,
   "id": "curious-coordinate",
   "metadata": {},
   "outputs": [],
   "source": [
    "# ## select numeric columns\n",
    "# selected_cols = df.select_dtypes(include=\"number\").columns.tolist()\n",
    "\n",
    "# ## drop noise_db and model_id columns\n",
    "# selected_cols.remove(\"noise_db\")\n",
    "# selected_cols.remove(\"model_id\")\n",
    "\n",
    "# print(selected_cols)\n",
    "\n",
    "selected_cols = [\n",
    "\"rms_std\",\n",
    "\"rms_max\",\n",
    "\"d_percussive_max\",\n",
    "\"d_percussive_std\",\n",
    "\"chroma_min\",\n",
    "\"mel_spect_std\",\n",
    "\"cent_std\",\n",
    "\"tonnetz_mean\",\n",
    "\"zero_crossing_rate_std\",\n",
    "\"spect_mean\",\n",
    "\"tonnetz_std\",\n",
    "\"roll_off_max\",\n",
    "\"tonnetz_max\",\n",
    "\"chroma_cq_mean\",\n",
    "\"chroma_cens_max\",\n",
    "\"contrast_min\",\n",
    "\"chroma_mean\",\n",
    "\"spec_bw_mean\",\n",
    "\"tonnetz_min\",\n",
    "\"zero_crossing_rate_mean\",\n",
    "]"
   ]
  },
  {
   "cell_type": "code",
   "execution_count": 90,
   "id": "assured-october",
   "metadata": {},
   "outputs": [],
   "source": [
    "# Select features X and target variable y\n",
    "X = df[selected_cols]\n",
    "y = df.target"
   ]
  },
  {
   "cell_type": "markdown",
   "id": "thousand-specialist",
   "metadata": {},
   "source": [
    "## Split dataset"
   ]
  },
  {
   "cell_type": "code",
   "execution_count": 91,
   "id": "suited-drilling",
   "metadata": {},
   "outputs": [
    {
     "name": "stdout",
     "output_type": "stream",
     "text": [
      "X_train: (43245, 20)   - y_train: (43245,)\n",
      "X_test:  (10812, 20)    - y_train: (10812,)\n"
     ]
    }
   ],
   "source": [
    "# Split into training and test sets\n",
    "X_train, X_test, y_train, y_test = train_test_split(X,\n",
    "                                                    y,\n",
    "                                                    test_size=0.2,\n",
    "                                                    random_state=42,\n",
    "                                                    stratify=y\n",
    "                                                   )\n",
    "\n",
    "print(f\"X_train: {X_train.shape}   - y_train: {y_train.shape}\")\n",
    "print(f\"X_test:  {X_test.shape}    - y_train: {y_test.shape}\")"
   ]
  },
  {
   "cell_type": "code",
   "execution_count": 142,
   "id": "controlled-harvard",
   "metadata": {},
   "outputs": [],
   "source": [
    "from imblearn.under_sampling import RandomUnderSampler\n",
    "undersample = RandomUnderSampler(sampling_strategy='auto')\n",
    "\n",
    "# fit and apply the transform\n",
    "X_train, y_train = undersample.fit_resample(X_train, y_train)"
   ]
  },
  {
   "cell_type": "markdown",
   "id": "egyptian-distribution",
   "metadata": {},
   "source": [
    "## Models"
   ]
  },
  {
   "cell_type": "code",
   "execution_count": 149,
   "id": "premium-clock",
   "metadata": {},
   "outputs": [],
   "source": [
    "# 1. Create pipelines\n",
    "pipe_random_forest = make_pipeline(RandomForestClassifier(random_state=5))\n",
    "pipe_decision_tree = make_pipeline(DecisionTreeClassifier(random_state=5))\n",
    "pipe_svm = make_pipeline(SVC(random_state=5))\n",
    "pipe_logistic_regression = make_pipeline(LogisticRegression(random_state=5))\n",
    "pipe_balanced_random_forest = make_pipeline(BalancedRandomForestClassifier(random_state=5))\n",
    "pipe_xgboost_classifier = make_pipeline(XGBClassifier())\n",
    "\n",
    "\n",
    "# 2. GridSearchCV for each pipeline: to train models with different parameters\n",
    "# and get the best models (for each pipeline) with the best parameters\n",
    "scoring = {'recall_score': \"recall\", 'roc_auc_score': 'roc_auc'}\n",
    "\n",
    "cv_stratified = StratifiedKFold(n_splits=10)\n",
    "\n",
    "## 2.1 Define grid search parameters\n",
    "grid_params_random_forest = {\n",
    "    'randomforestclassifier__n_estimators': [90, 100, 110],\n",
    "    'randomforestclassifier__criterion': ['gini', 'entropy']\n",
    "}\n",
    "\n",
    "grid_params_decision_tree = {\n",
    "    'decisiontreeclassifier__criterion': ['gini', 'entropy']\n",
    "}\n",
    "\n",
    "grid_params_svm = {\n",
    "    'svc__kernel': ['linear', 'rbf'],\n",
    "    'svc__C': [9, 10]\n",
    "}\n",
    "\n",
    "grid_params_logistic_regression = {\n",
    "    'logisticregression__penalty': ['l1', 'l2'],\n",
    "    'logisticregression__C': [1.0, 0.5],\n",
    "    'logisticregression__solver': ['liblinear']\n",
    "}\n",
    "\n",
    "grid_params_balanced_random_forest = {\n",
    "    'balancedrandomforestclassifier__n_estimators': [90, 100, 110],\n",
    "    'balancedrandomforestclassifier__criterion': ['gini', 'entropy']\n",
    "}\n",
    "\n",
    "grid_params_xgboost_classifier = {\n",
    "    'xgbclassifier__max_depth': [10, 11]\n",
    "}\n",
    "\n",
    "## 2.2 Instantiate grid searches\n",
    "### set n_jobs to -1 to use all processors\n",
    "n_jobs: int = 3\n",
    "\n",
    "grid_random_forest = GridSearchCV(\n",
    "    estimator=pipe_random_forest,\n",
    "    param_grid=grid_params_random_forest,\n",
    "    scoring=scoring,\n",
    "    refit='recall_score',\n",
    "    cv=cv_stratified,\n",
    "    n_jobs=n_jobs\n",
    ")\n",
    "\n",
    "grid_decision_tree = GridSearchCV(\n",
    "    estimator=pipe_decision_tree,\n",
    "    param_grid=grid_params_decision_tree,\n",
    "    scoring=scoring,\n",
    "    refit='recall_score',\n",
    "    cv=cv_stratified,\n",
    "    n_jobs=n_jobs\n",
    ")\n",
    "\n",
    "grid_random_logistic_regression = GridSearchCV(\n",
    "    estimator=pipe_logistic_regression,\n",
    "    param_grid=grid_params_logistic_regression,\n",
    "    scoring=scoring,\n",
    "    refit='recall_score',\n",
    "    cv=cv_stratified,\n",
    ")\n",
    "\n",
    "grid_balanced_random_forest = GridSearchCV(\n",
    "    estimator=pipe_balanced_random_forest,\n",
    "    param_grid=grid_params_balanced_random_forest,\n",
    "    scoring=scoring,\n",
    "    refit='recall_score',\n",
    "    cv=cv_stratified,\n",
    "    n_jobs=n_jobs\n",
    ")\n",
    "\n",
    "grid_xgboost_classifier = GridSearchCV(\n",
    "    estimator=pipe_xgboost_classifier,\n",
    "    param_grid=grid_params_xgboost_classifier,\n",
    "    scoring=scoring,\n",
    "    refit='recall_score',\n",
    "    cv=cv_stratified,\n",
    "    n_jobs=n_jobs\n",
    ")"
   ]
  },
  {
   "cell_type": "code",
   "execution_count": 150,
   "id": "recorded-century",
   "metadata": {
    "scrolled": false
   },
   "outputs": [
    {
     "name": "stdout",
     "output_type": "stream",
     "text": [
      "Fitting training with random_forest\n",
      "best params: {'randomforestclassifier__criterion': 'entropy', 'randomforestclassifier__n_estimators': 100}\n",
      "best training recall: 0.8444444444444444\n",
      "best scorer:{'mean_fit_time': array([4.33616879, 4.56583312, 4.99989083, 5.80107474, 6.41626873,\n",
      "       6.89452214]), 'std_fit_time': array([0.13791706, 0.12815057, 0.14005717, 0.26620853, 0.33125702,\n",
      "       0.33533575]), 'mean_score_time': array([0.02811353, 0.02835376, 0.03155959, 0.026316  , 0.02888024,\n",
      "       0.03157132]), 'std_score_time': array([0.00305683, 0.0014666 , 0.00207982, 0.0014788 , 0.00109572,\n",
      "       0.00202155]), 'param_randomforestclassifier__criterion': masked_array(data=['gini', 'gini', 'gini', 'entropy', 'entropy',\n",
      "                   'entropy'],\n",
      "             mask=[False, False, False, False, False, False],\n",
      "       fill_value='?',\n",
      "            dtype=object), 'param_randomforestclassifier__n_estimators': masked_array(data=[90, 100, 110, 90, 100, 110],\n",
      "             mask=[False, False, False, False, False, False],\n",
      "       fill_value='?',\n",
      "            dtype=object), 'params': [{'randomforestclassifier__criterion': 'gini', 'randomforestclassifier__n_estimators': 90}, {'randomforestclassifier__criterion': 'gini', 'randomforestclassifier__n_estimators': 100}, {'randomforestclassifier__criterion': 'gini', 'randomforestclassifier__n_estimators': 110}, {'randomforestclassifier__criterion': 'entropy', 'randomforestclassifier__n_estimators': 90}, {'randomforestclassifier__criterion': 'entropy', 'randomforestclassifier__n_estimators': 100}, {'randomforestclassifier__criterion': 'entropy', 'randomforestclassifier__n_estimators': 110}], 'split0_test_recall_score': array([0.85732323, 0.85984848, 0.86489899, 0.84722222, 0.85227273,\n",
      "       0.85227273]), 'split1_test_recall_score': array([0.83964646, 0.83712121, 0.83964646, 0.8459596 , 0.8510101 ,\n",
      "       0.85479798]), 'split2_test_recall_score': array([0.84217172, 0.8459596 , 0.84343434, 0.85858586, 0.85353535,\n",
      "       0.85606061]), 'split3_test_recall_score': array([0.81313131, 0.82070707, 0.81818182, 0.81439394, 0.81691919,\n",
      "       0.80934343]), 'split4_test_recall_score': array([0.84090909, 0.84722222, 0.8459596 , 0.83459596, 0.83333333,\n",
      "       0.83838384]), 'split5_test_recall_score': array([0.8459596 , 0.83964646, 0.84090909, 0.84722222, 0.84722222,\n",
      "       0.84848485]), 'split6_test_recall_score': array([0.84974747, 0.85353535, 0.84974747, 0.85858586, 0.86363636,\n",
      "       0.85858586]), 'split7_test_recall_score': array([0.83838384, 0.83964646, 0.83712121, 0.83207071, 0.83838384,\n",
      "       0.83838384]), 'split8_test_recall_score': array([0.82828283, 0.82575758, 0.82323232, 0.84469697, 0.83964646,\n",
      "       0.83207071]), 'split9_test_recall_score': array([0.84974747, 0.85353535, 0.84848485, 0.84974747, 0.84848485,\n",
      "       0.84090909]), 'mean_test_recall_score': array([0.8405303 , 0.84229798, 0.84116162, 0.84330808, 0.84444444,\n",
      "       0.84292929]), 'std_test_recall_score': array([0.0117912 , 0.01174242, 0.01259845, 0.01259402, 0.01232985,\n",
      "       0.01402823]), 'rank_test_recall_score': array([6, 4, 5, 2, 1, 3], dtype=int32)}\n",
      "recall_score on test set with best parameters: 0.8525252525252526\n",
      "Time to select best random_forest: 2.04 minutes\n",
      "Fitting training with decision_tree\n",
      "best params: {'decisiontreeclassifier__criterion': 'entropy'}\n",
      "best training recall: 0.8047979797979797\n",
      "best scorer:{'mean_fit_time': array([0.33798101, 0.41686819]), 'std_fit_time': array([0.01703226, 0.02358896]), 'mean_score_time': array([0.00238461, 0.00221732]), 'std_score_time': array([0.0005097 , 0.00038973]), 'param_decisiontreeclassifier__criterion': masked_array(data=['gini', 'entropy'],\n",
      "             mask=[False, False],\n",
      "       fill_value='?',\n",
      "            dtype=object), 'params': [{'decisiontreeclassifier__criterion': 'gini'}, {'decisiontreeclassifier__criterion': 'entropy'}], 'split0_test_recall_score': array([0.80934343, 0.80429293]), 'split1_test_recall_score': array([0.79545455, 0.80429293]), 'split2_test_recall_score': array([0.79924242, 0.82323232]), 'split3_test_recall_score': array([0.79166667, 0.80681818]), 'split4_test_recall_score': array([0.77146465, 0.80555556]), 'split5_test_recall_score': array([0.79545455, 0.80808081]), 'split6_test_recall_score': array([0.78787879, 0.80555556]), 'split7_test_recall_score': array([0.80429293, 0.78661616]), 'split8_test_recall_score': array([0.78914141, 0.80808081]), 'split9_test_recall_score': array([0.79419192, 0.79545455]), 'mean_test_recall_score': array([0.79381313, 0.80479798]), 'std_test_recall_score': array([0.00973206, 0.00886   ]), 'rank_test_recall_score': array([2, 1], dtype=int32)}\n",
      "recall_score on test set with best parameters: 0.8095959595959596\n",
      "Time to select best decision_tree: 0.06 minutes\n",
      "Fitting training with logistic_regression\n"
     ]
    },
    {
     "name": "stderr",
     "output_type": "stream",
     "text": [
      "/Users/derrickvanfrausum/anaconda3/envs/mimii/lib/python3.8/site-packages/sklearn/svm/_base.py:985: ConvergenceWarning: Liblinear failed to converge, increase the number of iterations.\n",
      "  warnings.warn(\"Liblinear failed to converge, increase \"\n",
      "/Users/derrickvanfrausum/anaconda3/envs/mimii/lib/python3.8/site-packages/sklearn/svm/_base.py:985: ConvergenceWarning: Liblinear failed to converge, increase the number of iterations.\n",
      "  warnings.warn(\"Liblinear failed to converge, increase \"\n",
      "/Users/derrickvanfrausum/anaconda3/envs/mimii/lib/python3.8/site-packages/sklearn/svm/_base.py:985: ConvergenceWarning: Liblinear failed to converge, increase the number of iterations.\n",
      "  warnings.warn(\"Liblinear failed to converge, increase \"\n"
     ]
    },
    {
     "name": "stdout",
     "output_type": "stream",
     "text": [
      "best params: {'logisticregression__C': 1.0, 'logisticregression__penalty': 'l1', 'logisticregression__solver': 'liblinear'}\n",
      "best training recall: 0.6071969696969697\n",
      "best scorer:{'mean_fit_time': array([1.56081545, 0.06847939, 1.56517644, 0.06291952]), 'std_fit_time': array([0.30123183, 0.00784404, 0.22015628, 0.00358682]), 'mean_score_time': array([0.00281298, 0.00187266, 0.00260875, 0.00222564]), 'std_score_time': array([6.57702360e-04, 7.30595797e-05, 5.41534625e-04, 4.68685387e-04]), 'param_logisticregression__C': masked_array(data=[1.0, 1.0, 0.5, 0.5],\n",
      "             mask=[False, False, False, False],\n",
      "       fill_value='?',\n",
      "            dtype=object), 'param_logisticregression__penalty': masked_array(data=['l1', 'l2', 'l1', 'l2'],\n",
      "             mask=[False, False, False, False],\n",
      "       fill_value='?',\n",
      "            dtype=object), 'param_logisticregression__solver': masked_array(data=['liblinear', 'liblinear', 'liblinear', 'liblinear'],\n",
      "             mask=[False, False, False, False],\n",
      "       fill_value='?',\n",
      "            dtype=object), 'params': [{'logisticregression__C': 1.0, 'logisticregression__penalty': 'l1', 'logisticregression__solver': 'liblinear'}, {'logisticregression__C': 1.0, 'logisticregression__penalty': 'l2', 'logisticregression__solver': 'liblinear'}, {'logisticregression__C': 0.5, 'logisticregression__penalty': 'l1', 'logisticregression__solver': 'liblinear'}, {'logisticregression__C': 0.5, 'logisticregression__penalty': 'l2', 'logisticregression__solver': 'liblinear'}], 'split0_test_recall_score': array([0.62752525, 0.61616162, 0.62626263, 0.61616162]), 'split1_test_recall_score': array([0.5959596 , 0.57954545, 0.59090909, 0.58712121]), 'split2_test_recall_score': array([0.58207071, 0.58459596, 0.58964646, 0.59469697]), 'split3_test_recall_score': array([0.61742424, 0.61994949, 0.61868687, 0.61237374]), 'split4_test_recall_score': array([0.59469697, 0.56691919, 0.58712121, 0.56565657]), 'split5_test_recall_score': array([0.61111111, 0.58964646, 0.59217172, 0.58585859]), 'split6_test_recall_score': array([0.61237374, 0.60984848, 0.61742424, 0.61237374]), 'split7_test_recall_score': array([0.6010101 , 0.58333333, 0.59848485, 0.58585859]), 'split8_test_recall_score': array([0.62626263, 0.62247475, 0.625     , 0.62626263]), 'split9_test_recall_score': array([0.60353535, 0.60732323, 0.59343434, 0.6010101 ]), 'mean_test_recall_score': array([0.60719697, 0.5979798 , 0.60391414, 0.59873737]), 'std_test_recall_score': array([0.01374408, 0.01846372, 0.01508878, 0.01736559]), 'rank_test_recall_score': array([1, 4, 2, 3], dtype=int32)}\n",
      "recall_score on test set with best parameters: 0.6141414141414141\n",
      "Time to select best logistic_regression: 0.59 minutes\n",
      "Fitting training with balanced_random_forest\n",
      "best params: {'balancedrandomforestclassifier__criterion': 'entropy', 'balancedrandomforestclassifier__n_estimators': 110}\n",
      "best training recall: 0.8443181818181819\n",
      "best scorer:{'mean_fit_time': array([4.37113535, 5.35188191, 5.92151773, 6.39108787, 7.09914944,\n",
      "       7.41656256]), 'std_fit_time': array([0.05166305, 0.22720522, 0.19010918, 0.29440624, 0.38675192,\n",
      "       0.38681611]), 'mean_score_time': array([0.0260185 , 0.02983816, 0.0388674 , 0.02809134, 0.0297986 ,\n",
      "       0.03246007]), 'std_score_time': array([0.00214053, 0.00144655, 0.01357961, 0.00199707, 0.00152687,\n",
      "       0.00267714]), 'param_balancedrandomforestclassifier__criterion': masked_array(data=['gini', 'gini', 'gini', 'entropy', 'entropy',\n",
      "                   'entropy'],\n",
      "             mask=[False, False, False, False, False, False],\n",
      "       fill_value='?',\n",
      "            dtype=object), 'param_balancedrandomforestclassifier__n_estimators': masked_array(data=[90, 100, 110, 90, 100, 110],\n",
      "             mask=[False, False, False, False, False, False],\n",
      "       fill_value='?',\n",
      "            dtype=object), 'params': [{'balancedrandomforestclassifier__criterion': 'gini', 'balancedrandomforestclassifier__n_estimators': 90}, {'balancedrandomforestclassifier__criterion': 'gini', 'balancedrandomforestclassifier__n_estimators': 100}, {'balancedrandomforestclassifier__criterion': 'gini', 'balancedrandomforestclassifier__n_estimators': 110}, {'balancedrandomforestclassifier__criterion': 'entropy', 'balancedrandomforestclassifier__n_estimators': 90}, {'balancedrandomforestclassifier__criterion': 'entropy', 'balancedrandomforestclassifier__n_estimators': 100}, {'balancedrandomforestclassifier__criterion': 'entropy', 'balancedrandomforestclassifier__n_estimators': 110}], 'split0_test_recall_score': array([0.84848485, 0.84974747, 0.85984848, 0.85353535, 0.85984848,\n",
      "       0.86111111]), 'split1_test_recall_score': array([0.85732323, 0.85732323, 0.85227273, 0.84722222, 0.8459596 ,\n",
      "       0.84974747]), 'split2_test_recall_score': array([0.83585859, 0.83459596, 0.84217172, 0.85858586, 0.86237374,\n",
      "       0.85732323]), 'split3_test_recall_score': array([0.82575758, 0.82449495, 0.8270202 , 0.81313131, 0.81439394,\n",
      "       0.82070707]), 'split4_test_recall_score': array([0.83712121, 0.83585859, 0.83585859, 0.84217172, 0.83964646,\n",
      "       0.83585859]), 'split5_test_recall_score': array([0.84217172, 0.84469697, 0.83964646, 0.84722222, 0.84974747,\n",
      "       0.8510101 ]), 'split6_test_recall_score': array([0.83838384, 0.84343434, 0.84722222, 0.85227273, 0.85479798,\n",
      "       0.85732323]), 'split7_test_recall_score': array([0.84090909, 0.83964646, 0.84217172, 0.83838384, 0.83585859,\n",
      "       0.83712121]), 'split8_test_recall_score': array([0.83080808, 0.82828283, 0.83080808, 0.83207071, 0.83712121,\n",
      "       0.83585859]), 'split9_test_recall_score': array([0.84217172, 0.84469697, 0.83964646, 0.83712121, 0.83712121,\n",
      "       0.83712121]), 'mean_test_recall_score': array([0.83989899, 0.84027778, 0.84166667, 0.84217172, 0.84368687,\n",
      "       0.84431818]), 'std_test_recall_score': array([0.00835244, 0.00935111, 0.00921285, 0.01239691, 0.01340764,\n",
      "       0.01224227]), 'rank_test_recall_score': array([6, 5, 4, 3, 2, 1], dtype=int32)}\n",
      "recall_score on test set with best parameters: 0.8464646464646465\n",
      "Time to select best balanced_random_forest: 2.26 minutes\n",
      "Fitting training with xgboost_classifier\n"
     ]
    },
    {
     "name": "stderr",
     "output_type": "stream",
     "text": [
      "/Users/derrickvanfrausum/anaconda3/envs/mimii/lib/python3.8/site-packages/xgboost/sklearn.py:888: UserWarning: The use of label encoder in XGBClassifier is deprecated and will be removed in a future release. To remove this warning, do the following: 1) Pass option use_label_encoder=False when constructing XGBClassifier object; and 2) Encode your labels (y) as integers starting with 0, i.e. 0, 1, 2, ..., [num_class - 1].\n",
      "  warnings.warn(label_encoder_deprecation_msg, UserWarning)\n"
     ]
    },
    {
     "name": "stdout",
     "output_type": "stream",
     "text": [
      "[14:34:28] WARNING: ../src/learner.cc:1061: Starting in XGBoost 1.3.0, the default evaluation metric used with the objective 'binary:logistic' was changed from 'error' to 'logloss'. Explicitly set eval_metric if you'd like to restore the old behavior.\n",
      "best params: {'xgbclassifier__max_depth': 10}\n",
      "best training recall: 0.8651515151515152\n",
      "best scorer:{'mean_fit_time': array([9.53687122, 9.06958799]), 'std_fit_time': array([0.75245795, 1.43897829]), 'mean_score_time': array([0.01567943, 0.00783212]), 'std_score_time': array([0.01007786, 0.00212121]), 'param_xgbclassifier__max_depth': masked_array(data=[10, 11],\n",
      "             mask=[False, False],\n",
      "       fill_value='?',\n",
      "            dtype=object), 'params': [{'xgbclassifier__max_depth': 10}, {'xgbclassifier__max_depth': 11}], 'split0_test_recall_score': array([0.88510101, 0.87752525]), 'split1_test_recall_score': array([0.86363636, 0.86742424]), 'split2_test_recall_score': array([0.87121212, 0.86489899]), 'split3_test_recall_score': array([0.83585859, 0.83712121]), 'split4_test_recall_score': array([0.86868687, 0.86742424]), 'split5_test_recall_score': array([0.88005051, 0.87752525]), 'split6_test_recall_score': array([0.86363636, 0.86868687]), 'split7_test_recall_score': array([0.86868687, 0.85732323]), 'split8_test_recall_score': array([0.84217172, 0.8459596 ]), 'split9_test_recall_score': array([0.87247475, 0.85732323]), 'mean_test_recall_score': array([0.86515152, 0.86212121]), 'std_test_recall_score': array([0.01458101, 0.01230397]), 'rank_test_recall_score': array([1, 2], dtype=int32)}\n",
      "recall_score on test set with best parameters: 0.8671717171717171\n",
      "Time to select best xgboost_classifier: 1.14 minutes\n",
      "Conclusion: model with best recall on test set: xgboost_classifier\n"
     ]
    }
   ],
   "source": [
    "## 2.3 Create dict of grids\n",
    "grids: Dict[str, GridSearchCV] = {\n",
    "    \"random_forest\": grid_random_forest,\n",
    "    \"decision_tree\": grid_decision_tree,\n",
    "    \"logistic_regression\": grid_random_logistic_regression,\n",
    "    \"balanced_random_forest\": grid_balanced_random_forest,\n",
    "    \"xgboost_classifier\": grid_xgboost_classifier\n",
    "}\n",
    "\n",
    "# 2.4 Keep track of the best accuracy score\n",
    "best_recall = 0.0\n",
    "best_model = None\n",
    "best_model_name = \"\"    \n",
    "    \n",
    "## 2.4 Fit the grids to the training set\n",
    "for grid_name, grid in grids.items():\n",
    "    start_time = time.time()\n",
    "    print(f\"Fitting training with {grid_name}\")\n",
    "    grid.fit(X_train, y_train)\n",
    "    print(f'best params: {grid.best_params_}')\n",
    "    print(f'best training recall: {grid.best_score_}')\n",
    "    \n",
    "    # print scores of all the scorers\n",
    "    print(f'best scorer:{grid.cv_results_}')\n",
    "\n",
    "    # predict on test set with best parameters\n",
    "    y_pred = grid.predict(X_test)\n",
    "    recall_score_value = recall_score(y_test, y_pred)\n",
    "    print(f'recall_score on test set with best parameters: {recall_score_value}')\n",
    "\n",
    "    # Update the best model\n",
    "    if recall_score_value > best_recall:\n",
    "        best_recall = recall_score_value\n",
    "        best_model = grid\n",
    "        best_model_name = grid_name\n",
    "    \n",
    "    # Print time to select best model within a grid\n",
    "    end_time = time.time()\n",
    "    diff_time_m = (end_time - start_time)/60\n",
    "    print(f\"Time to select best {grid_name}: {diff_time_m:.2f} minutes\")\n",
    "print(f\"Conclusion: model with best recall on test set: {best_model_name}\")"
   ]
  },
  {
   "cell_type": "code",
   "execution_count": 148,
   "id": "recognized-beauty",
   "metadata": {},
   "outputs": [
    {
     "data": {
      "text/plain": [
       "{'mean_fit_time': array([7.86787999]),\n",
       " 'std_fit_time': array([1.72171306]),\n",
       " 'mean_score_time': array([0.01232252]),\n",
       " 'std_score_time': array([0.00502672]),\n",
       " 'param_xgbclassifier__max_depth': masked_array(data=[9],\n",
       "              mask=[False],\n",
       "        fill_value='?',\n",
       "             dtype=object),\n",
       " 'params': [{'xgbclassifier__max_depth': 9}],\n",
       " 'split0_test_recall_score': array([0.86994949]),\n",
       " 'split1_test_recall_score': array([0.87121212]),\n",
       " 'split2_test_recall_score': array([0.86616162]),\n",
       " 'split3_test_recall_score': array([0.83838384]),\n",
       " 'split4_test_recall_score': array([0.85353535]),\n",
       " 'split5_test_recall_score': array([0.88005051]),\n",
       " 'split6_test_recall_score': array([0.85353535]),\n",
       " 'split7_test_recall_score': array([0.86111111]),\n",
       " 'split8_test_recall_score': array([0.85858586]),\n",
       " 'split9_test_recall_score': array([0.85227273]),\n",
       " 'mean_test_recall_score': array([0.8604798]),\n",
       " 'std_test_recall_score': array([0.0112968]),\n",
       " 'rank_test_recall_score': array([1], dtype=int32)}"
      ]
     },
     "execution_count": 148,
     "metadata": {},
     "output_type": "execute_result"
    }
   ],
   "source": [
    "best_model.cv_results_"
   ]
  },
  {
   "cell_type": "code",
   "execution_count": 151,
   "id": "broke-difference",
   "metadata": {},
   "outputs": [
    {
     "name": "stdout",
     "output_type": "stream",
     "text": [
      "Best model (xgboost_classifier) is saved\n",
      "GridSearchCV(cv=StratifiedKFold(n_splits=10, random_state=None, shuffle=False),\n",
      "             estimator=Pipeline(steps=[('xgbclassifier',\n",
      "                                        XGBClassifier(base_score=None,\n",
      "                                                      booster=None,\n",
      "                                                      colsample_bylevel=None,\n",
      "                                                      colsample_bynode=None,\n",
      "                                                      colsample_bytree=None,\n",
      "                                                      gamma=None, gpu_id=None,\n",
      "                                                      importance_type='gain',\n",
      "                                                      interaction_constraints=None,\n",
      "                                                      learning_rate=None,\n",
      "                                                      max_delta_step=None,\n",
      "                                                      max_de...\n",
      "                                                      min_child_weight=None,\n",
      "                                                      missing=nan,\n",
      "                                                      monotone_constraints=None,\n",
      "                                                      n_estimators=100,\n",
      "                                                      n_jobs=None,\n",
      "                                                      num_parallel_tree=None,\n",
      "                                                      random_state=None,\n",
      "                                                      reg_alpha=None,\n",
      "                                                      reg_lambda=None,\n",
      "                                                      scale_pos_weight=None,\n",
      "                                                      subsample=None,\n",
      "                                                      tree_method=None,\n",
      "                                                      validate_parameters=None,\n",
      "                                                      verbosity=None))]),\n",
      "             n_jobs=3, param_grid={'xgbclassifier__max_depth': [10, 11]},\n",
      "             refit='recall_score', scoring={'recall_score': 'recall'})\n",
      "Best parameters: loaded_model.best_params_\n",
      "              precision    recall  f1-score   support\n",
      "\n",
      "           0       0.97      0.89      0.92      8832\n",
      "           1       0.63      0.87      0.73      1980\n",
      "\n",
      "    accuracy                           0.88     10812\n",
      "   macro avg       0.80      0.88      0.83     10812\n",
      "weighted avg       0.91      0.88      0.89     10812\n",
      "\n"
     ]
    }
   ],
   "source": [
    "## 2.5 Save the best grid search pipeline to joblib file\n",
    "filepath = os.path.join(\"assets\",\"data\",\"best_model.joblib\")\n",
    "joblib.dump(best_model, filepath, compress=1)\n",
    "print(f\"Best model ({best_model_name}) is saved\")\n",
    "\n",
    "## 2.6 Load the model\n",
    "loaded_model = joblib.load(filepath) \n",
    "\n",
    "print(loaded_model)\n",
    "print(\"Best parameters: loaded_model.best_params_\")\n",
    "print(classification_report(y_test, loaded_model.predict(X_test)))"
   ]
  },
  {
   "cell_type": "code",
   "execution_count": 152,
   "id": "lasting-insulin",
   "metadata": {},
   "outputs": [
    {
     "data": {
      "text/plain": [
       "array([[7820, 1012],\n",
       "       [ 263, 1717]])"
      ]
     },
     "execution_count": 152,
     "metadata": {},
     "output_type": "execute_result"
    }
   ],
   "source": [
    "confusion_matrix(y_test, loaded_model.predict(X_test))"
   ]
  },
  {
   "cell_type": "code",
   "execution_count": 153,
   "id": "legendary-danish",
   "metadata": {},
   "outputs": [
    {
     "data": {
      "image/png": "[encoded data removed]",
      "text/plain": [
       "<Figure size 432x288 with 2 Axes>"
      ]
     },
     "metadata": {
      "needs_background": "light"
     },
     "output_type": "display_data"
    }
   ],
   "source": [
    "plot_confusion_matrix(loaded_model, X_test, y_test);"
   ]
  },
  {
   "cell_type": "code",
   "execution_count": 156,
   "id": "disciplinary-synthetic",
   "metadata": {},
   "outputs": [
    {
     "data": {
      "image/png": "[encoded data removed]",
      "text/plain": [
       "<Figure size 432x288 with 1 Axes>"
      ]
     },
     "metadata": {
      "needs_background": "light"
     },
     "output_type": "display_data"
    }
   ],
   "source": [
    "from sklearn.metrics import plot_precision_recall_curve\n",
    "plot_precision_recall_curve(loaded_model, X_test, y_test, name = best_model_name);"
   ]
  },
  {
   "cell_type": "code",
   "execution_count": 114,
   "id": "american-restriction",
   "metadata": {},
   "outputs": [
    {
     "data": {
      "text/html": [
       "<div>\n",
       "<style scoped>\n",
       "    .dataframe tbody tr th:only-of-type {\n",
       "        vertical-align: middle;\n",
       "    }\n",
       "\n",
       "    .dataframe tbody tr th {\n",
       "        vertical-align: top;\n",
       "    }\n",
       "\n",
       "    .dataframe thead th {\n",
       "        text-align: right;\n",
       "    }\n",
       "</style>\n",
       "<table border=\"1\" class=\"dataframe\">\n",
       "  <thead>\n",
       "    <tr style=\"text-align: right;\">\n",
       "      <th></th>\n",
       "      <th>rms_std</th>\n",
       "      <th>rms_max</th>\n",
       "      <th>d_percussive_max</th>\n",
       "      <th>d_percussive_std</th>\n",
       "      <th>chroma_min</th>\n",
       "      <th>mel_spect_std</th>\n",
       "      <th>cent_std</th>\n",
       "      <th>tonnetz_mean</th>\n",
       "      <th>zero_crossing_rate_std</th>\n",
       "      <th>spect_mean</th>\n",
       "      <th>tonnetz_std</th>\n",
       "      <th>roll_off_max</th>\n",
       "      <th>tonnetz_max</th>\n",
       "      <th>chroma_cq_mean</th>\n",
       "      <th>chroma_cens_max</th>\n",
       "      <th>contrast_min</th>\n",
       "      <th>chroma_mean</th>\n",
       "      <th>spec_bw_mean</th>\n",
       "      <th>tonnetz_min</th>\n",
       "      <th>zero_crossing_rate_mean</th>\n",
       "    </tr>\n",
       "  </thead>\n",
       "  <tbody>\n",
       "    <tr>\n",
       "      <th>28489</th>\n",
       "      <td>0.000907</td>\n",
       "      <td>0.008228</td>\n",
       "      <td>3.090454</td>\n",
       "      <td>0.075248</td>\n",
       "      <td>0.184796</td>\n",
       "      <td>0.092794</td>\n",
       "      <td>127.90084</td>\n",
       "      <td>-0.02459</td>\n",
       "      <td>0.006872</td>\n",
       "      <td>0.074043</td>\n",
       "      <td>0.080171</td>\n",
       "      <td>5943.164062</td>\n",
       "      <td>0.143502</td>\n",
       "      <td>0.515873</td>\n",
       "      <td>0.57216</td>\n",
       "      <td>5.040021</td>\n",
       "      <td>0.552856</td>\n",
       "      <td>1406.862854</td>\n",
       "      <td>-0.296043</td>\n",
       "      <td>0.050134</td>\n",
       "    </tr>\n",
       "  </tbody>\n",
       "</table>\n",
       "</div>"
      ],
      "text/plain": [
       "        rms_std   rms_max  d_percussive_max  d_percussive_std  chroma_min  \\\n",
       "28489  0.000907  0.008228          3.090454          0.075248    0.184796   \n",
       "\n",
       "       mel_spect_std   cent_std  tonnetz_mean  zero_crossing_rate_std  \\\n",
       "28489       0.092794  127.90084      -0.02459                0.006872   \n",
       "\n",
       "       spect_mean  tonnetz_std  roll_off_max  tonnetz_max  chroma_cq_mean  \\\n",
       "28489    0.074043     0.080171   5943.164062     0.143502        0.515873   \n",
       "\n",
       "       chroma_cens_max  contrast_min  chroma_mean  spec_bw_mean  tonnetz_min  \\\n",
       "28489          0.57216      5.040021     0.552856   1406.862854    -0.296043   \n",
       "\n",
       "       zero_crossing_rate_mean  \n",
       "28489                 0.050134  "
      ]
     },
     "execution_count": 114,
     "metadata": {},
     "output_type": "execute_result"
    }
   ],
   "source": [
    "X_test.iloc[[1]]"
   ]
  },
  {
   "cell_type": "code",
   "execution_count": 112,
   "id": "fabulous-sauce",
   "metadata": {},
   "outputs": [
    {
     "data": {
      "text/plain": [
       "array([0])"
      ]
     },
     "execution_count": 112,
     "metadata": {},
     "output_type": "execute_result"
    }
   ],
   "source": [
    "loaded_model.predict(X_test.iloc[[1]])"
   ]
  },
  {
   "cell_type": "code",
   "execution_count": 113,
   "id": "wanted-mason",
   "metadata": {},
   "outputs": [
    {
     "data": {
      "text/plain": [
       "28489    0\n",
       "Name: target, dtype: int64"
      ]
     },
     "execution_count": 113,
     "metadata": {},
     "output_type": "execute_result"
    }
   ],
   "source": [
    "y_test.iloc[[1]]"
   ]
  },
  {
   "cell_type": "markdown",
   "id": "desirable-reception",
   "metadata": {},
   "source": [
    "## ML for each machine type"
   ]
  },
  {
   "cell_type": "code",
   "execution_count": null,
   "id": "induced-sampling",
   "metadata": {},
   "outputs": [],
   "source": []
  },
  {
   "cell_type": "code",
   "execution_count": 166,
   "id": "accessible-westminster",
   "metadata": {},
   "outputs": [
    {
     "name": "stdout",
     "output_type": "stream",
     "text": [
      "************** slider **************\n",
      "X_train: (9825, 20)   - y_train: (9825,)\n",
      "X_test:  (2457, 20)    - y_train: (2457,)\n",
      "slider\n",
      "xgboost_classifier\n",
      "Best parameters: {'xgbclassifier__max_depth': 11}\n",
      "              precision    recall  f1-score   support\n",
      "\n",
      "           0       0.73      0.27      0.39      1923\n",
      "           1       0.20      0.65      0.30       534\n",
      "\n",
      "    accuracy                           0.35      2457\n",
      "   macro avg       0.46      0.46      0.35      2457\n",
      "weighted avg       0.61      0.35      0.37      2457\n",
      "\n",
      "************** valve **************\n",
      "X_train: (10008, 20)   - y_train: (10008,)\n",
      "X_test:  (2502, 20)    - y_train: (2502,)\n",
      "valve\n",
      "xgboost_classifier\n",
      "Best parameters: {'xgbclassifier__max_depth': 11}\n",
      "              precision    recall  f1-score   support\n",
      "\n",
      "           0       0.88      0.18      0.30      2215\n",
      "           1       0.11      0.81      0.20       287\n",
      "\n",
      "    accuracy                           0.25      2502\n",
      "   macro avg       0.50      0.50      0.25      2502\n",
      "weighted avg       0.79      0.25      0.29      2502\n",
      "\n",
      "************** pump **************\n",
      "X_train: (10092, 20)   - y_train: (10092,)\n",
      "X_test:  (2523, 20)    - y_train: (2523,)\n",
      "pump\n",
      "xgboost_classifier\n",
      "Best parameters: {'xgbclassifier__max_depth': 11}\n",
      "              precision    recall  f1-score   support\n",
      "\n",
      "           0       0.92      0.31      0.46      2249\n",
      "           1       0.12      0.79      0.21       274\n",
      "\n",
      "    accuracy                           0.36      2523\n",
      "   macro avg       0.52      0.55      0.34      2523\n",
      "weighted avg       0.84      0.36      0.44      2523\n",
      "\n",
      "************** fan **************\n",
      "X_train: (13320, 20)   - y_train: (13320,)\n",
      "X_test:  (3330, 20)    - y_train: (3330,)\n",
      "fan\n",
      "balanced_random_forest\n",
      "Best parameters: {'balancedrandomforestclassifier__criterion': 'gini', 'balancedrandomforestclassifier__n_estimators': 110}\n",
      "              precision    recall  f1-score   support\n",
      "\n",
      "           0       0.96      0.91      0.93      2445\n",
      "           1       0.79      0.89      0.83       885\n",
      "\n",
      "    accuracy                           0.91      3330\n",
      "   macro avg       0.87      0.90      0.88      3330\n",
      "weighted avg       0.91      0.91      0.91      3330\n",
      "\n"
     ]
    }
   ],
   "source": [
    "for machine_type in df.machine_type.unique():\n",
    "\n",
    "    # Select features X and target variable y for each machine type sounds\n",
    "    X = df[selected_cols].loc[df.machine_type == machine_type]\n",
    "    y = df.target.loc[df.machine_type == machine_type]\n",
    "    print(f\"************** {machine_type} **************\")\n",
    "    \n",
    "    # Split into training and test sets\n",
    "    X_train, X_test, y_train, y_test = train_test_split(X,\n",
    "                                                        y,\n",
    "                                                        test_size=0.2,\n",
    "                                                        random_state=42,\n",
    "                                                        stratify=y\n",
    "                                                       )\n",
    "\n",
    "    print(f\"X_train: {X_train.shape}   - y_train: {y_train.shape}\")\n",
    "    print(f\"X_test:  {X_test.shape}    - y_train: {y_test.shape}\")\n",
    "\n",
    "#     from imblearn.under_sampling import RandomUnderSampler\n",
    "#     undersample = RandomUnderSampler(sampling_strategy='auto')\n",
    "\n",
    "    # fit and apply the transform\n",
    "    X_train, y_train = undersample.fit_resample(X_train, y_train)\n",
    "    \n",
    "    print(machine_type)\n",
    "    print(best_model_name_by_machine_type[machine_type])\n",
    "    print(f\"Best parameters: {best_model_by_machine_type[machine_type].best_params_}\")\n",
    "    print(classification_report(y_test, best_model_by_machine_type[machine_type].predict(X_test)))"
   ]
  },
  {
   "cell_type": "code",
   "execution_count": null,
   "id": "progressive-tucson",
   "metadata": {},
   "outputs": [],
   "source": []
  }
 ],
 "metadata": {
  "kernelspec": {
   "display_name": "Python 3",
   "language": "python",
   "name": "python3"
  },
  "language_info": {
   "codemirror_mode": {
    "name": "ipython",
    "version": 3
   },
   "file_extension": ".py",
   "mimetype": "text/x-python",
   "name": "python",
   "nbconvert_exporter": "python",
   "pygments_lexer": "ipython3",
   "version": "3.8.8"
  }
 },
 "nbformat": 4,
 "nbformat_minor": 5
}
