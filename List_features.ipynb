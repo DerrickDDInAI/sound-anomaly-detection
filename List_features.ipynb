{
 "cells": [
  {
   "cell_type": "code",
   "execution_count": 2,
   "id": "female-spider",
   "metadata": {},
   "outputs": [],
   "source": [
    "# Importing libraries\n",
    "import librosa\n",
    "import librosa.display\n",
    "import matplotlib.pyplot as plt\n",
    "import numpy as np\n",
    "import pandas as pd"
   ]
  },
  {
   "cell_type": "code",
   "execution_count": 3,
   "id": "annoying-gather",
   "metadata": {},
   "outputs": [],
   "source": [
    "# load audio file (\"Normal fan\")\n",
    "y, sr = librosa.load('/home/ms/Desktop/codit_project/00000001_-6dB_normal_fan_00.wav')"
   ]
  },
  {
   "cell_type": "code",
   "execution_count": 5,
   "id": "informal-execution",
   "metadata": {},
   "outputs": [
    {
     "data": {
      "text/plain": [
       "0.08180039"
      ]
     },
     "execution_count": 5,
     "metadata": {},
     "output_type": "execute_result"
    }
   ],
   "source": [
    "# Spectogram\n",
    "spec = np.abs(librosa.stft(y, hop_length=512))\n",
    "\n",
    "np.mean(spec)"
   ]
  },
  {
   "cell_type": "code",
   "execution_count": 6,
   "id": "completed-moral",
   "metadata": {},
   "outputs": [
    {
     "data": {
      "text/plain": [
       "0.019136121"
      ]
     },
     "execution_count": 6,
     "metadata": {},
     "output_type": "execute_result"
    }
   ],
   "source": [
    "# Mel Spectogram\n",
    "mel_spect = librosa.feature.melspectrogram(y=y, sr=sr, n_fft=2048, hop_length=1024)\n",
    "\n",
    "np.mean(mel_spect)"
   ]
  },
  {
   "cell_type": "code",
   "execution_count": 7,
   "id": "subject-heart",
   "metadata": {},
   "outputs": [
    {
     "data": {
      "text/plain": [
       "0.5667396"
      ]
     },
     "execution_count": 7,
     "metadata": {},
     "output_type": "execute_result"
    }
   ],
   "source": [
    "# Chromagram\n",
    "\n",
    "S = np.abs(librosa.stft(y)) \n",
    "\n",
    "chroma = librosa.feature.chroma_stft(S=S, sr=sr)\n",
    "\n",
    "np.mean(chroma)"
   ]
  },
  {
   "cell_type": "code",
   "execution_count": 8,
   "id": "incoming-google",
   "metadata": {},
   "outputs": [
    {
     "data": {
      "text/plain": [
       "0.5533795"
      ]
     },
     "execution_count": 8,
     "metadata": {},
     "output_type": "execute_result"
    }
   ],
   "source": [
    "# Constant-Q chromagram\n",
    "\n",
    "chroma_cq = librosa.feature.chroma_cqt(y=y, sr=sr)\n",
    "\n",
    "np.mean(chroma_cq)"
   ]
  },
  {
   "cell_type": "code",
   "execution_count": 10,
   "id": "working-title",
   "metadata": {},
   "outputs": [
    {
     "data": {
      "text/plain": [
       "0.269918195603179"
      ]
     },
     "execution_count": 10,
     "metadata": {},
     "output_type": "execute_result"
    }
   ],
   "source": [
    "# chroma_cens\n",
    "\n",
    "chroma_cens = librosa.feature.chroma_cens(y=y, sr=sr)\n",
    "\n",
    "np.mean(chroma_cens)"
   ]
  },
  {
   "cell_type": "code",
   "execution_count": 11,
   "id": "australian-muslim",
   "metadata": {},
   "outputs": [
    {
     "data": {
      "text/plain": [
       "-5.685199"
      ]
     },
     "execution_count": 11,
     "metadata": {},
     "output_type": "execute_result"
    }
   ],
   "source": [
    "# mfcc\n",
    "\n",
    "mfcc = librosa.feature.mfcc(y=y, sr=sr, n_mfcc=40)\n",
    "\n",
    "np.mean(mfcc)\n"
   ]
  },
  {
   "cell_type": "code",
   "execution_count": 12,
   "id": "changed-yellow",
   "metadata": {},
   "outputs": [
    {
     "data": {
      "text/plain": [
       "0.005512948884083837"
      ]
     },
     "execution_count": 12,
     "metadata": {},
     "output_type": "execute_result"
    }
   ],
   "source": [
    "# rms\n",
    "\n",
    "S, phase = librosa.magphase(librosa.stft(y))\n",
    "\n",
    "rms = librosa.feature.rms(S=S)\n",
    "np.mean(rms)"
   ]
  },
  {
   "cell_type": "code",
   "execution_count": 13,
   "id": "blind-miller",
   "metadata": {},
   "outputs": [
    {
     "data": {
      "text/plain": [
       "1466.8593145275204"
      ]
     },
     "execution_count": 13,
     "metadata": {},
     "output_type": "execute_result"
    }
   ],
   "source": [
    "# spectral centroid\n",
    "\n",
    "cent = librosa.feature.spectral_centroid(y=y, sr=sr)\n",
    "\n",
    "np.mean(cent)"
   ]
  },
  {
   "cell_type": "code",
   "execution_count": 14,
   "id": "related-nickname",
   "metadata": {},
   "outputs": [
    {
     "data": {
      "text/plain": [
       "1749.8997281828515"
      ]
     },
     "execution_count": 14,
     "metadata": {},
     "output_type": "execute_result"
    }
   ],
   "source": [
    "# Spectral bandwidth\n",
    "\n",
    "spec_bw = librosa.feature.spectral_bandwidth(y=y, sr=sr)\n",
    "\n",
    "np.mean(spec_bw)"
   ]
  },
  {
   "cell_type": "code",
   "execution_count": 15,
   "id": "designed-roberts",
   "metadata": {},
   "outputs": [
    {
     "data": {
      "text/plain": [
       "23.306772062408232"
      ]
     },
     "execution_count": 15,
     "metadata": {},
     "output_type": "execute_result"
    }
   ],
   "source": [
    "# spectral contrast\n",
    "\n",
    "contrast = librosa.feature.spectral_contrast(S=S, sr=sr)\n",
    "\n",
    "np.mean(contrast)"
   ]
  },
  {
   "cell_type": "code",
   "execution_count": 16,
   "id": "objective-parking",
   "metadata": {},
   "outputs": [
    {
     "data": {
      "text/plain": [
       "0.00030577206"
      ]
     },
     "execution_count": 16,
     "metadata": {},
     "output_type": "execute_result"
    }
   ],
   "source": [
    "# spectral flatness\n",
    "\n",
    "flatness = librosa.feature.spectral_flatness(y=y)\n",
    "\n",
    "np.mean(flatness)"
   ]
  },
  {
   "cell_type": "code",
   "execution_count": 17,
   "id": "harmful-softball",
   "metadata": {},
   "outputs": [
    {
     "data": {
      "text/plain": [
       "5655.68830662703"
      ]
     },
     "execution_count": 17,
     "metadata": {},
     "output_type": "execute_result"
    }
   ],
   "source": [
    "# roll-off frequency\n",
    "\n",
    "roll_off = librosa.feature.spectral_rolloff(y=y, sr=sr, roll_percent=0.95)\n",
    "\n",
    "np.mean(roll_off)"
   ]
  },
  {
   "cell_type": "code",
   "execution_count": 18,
   "id": "occasional-drain",
   "metadata": {},
   "outputs": [
    {
     "data": {
      "text/plain": [
       "-0.004011807546385888"
      ]
     },
     "execution_count": 18,
     "metadata": {},
     "output_type": "execute_result"
    }
   ],
   "source": [
    "# tonal centroid features (tonnetz)\n",
    "\n",
    "tonnetz = librosa.feature.tonnetz(y=y, sr=sr)\n",
    "\n",
    "np.mean(tonnetz)"
   ]
  },
  {
   "cell_type": "code",
   "execution_count": 19,
   "id": "charged-blair",
   "metadata": {},
   "outputs": [
    {
     "data": {
      "text/plain": [
       "0.06820303436774942"
      ]
     },
     "execution_count": 19,
     "metadata": {},
     "output_type": "execute_result"
    }
   ],
   "source": [
    "# zero-crossing rate\n",
    "\n",
    "zero_crossing_rate = librosa.feature.zero_crossing_rate(y)\n",
    "\n",
    "np.mean(zero_crossing_rate)"
   ]
  },
  {
   "cell_type": "code",
   "execution_count": 1,
   "id": "laughing-executive",
   "metadata": {},
   "outputs": [
    {
     "ename": "NameError",
     "evalue": "name 'get_all_sounds' is not defined",
     "output_type": "error",
     "traceback": [
      "\u001b[0;31m---------------------------------------------------------------------------\u001b[0m",
      "\u001b[0;31mNameError\u001b[0m                                 Traceback (most recent call last)",
      "\u001b[0;32m<ipython-input-1-95c9375dc398>\u001b[0m in \u001b[0;36m<module>\u001b[0;34m\u001b[0m\n\u001b[1;32m      1\u001b[0m \u001b[0;31m# df = get_all_sounds([-6, 0, 6], [\"fan\", \"valve\", \"pump\", \"slider\"])\u001b[0m\u001b[0;34m\u001b[0m\u001b[0;34m\u001b[0m\u001b[0;34m\u001b[0m\u001b[0m\n\u001b[0;32m----> 2\u001b[0;31m \u001b[0mdf\u001b[0m \u001b[0;34m=\u001b[0m \u001b[0mget_all_sounds\u001b[0m\u001b[0;34m(\u001b[0m\u001b[0;34m[\u001b[0m\u001b[0;34m-\u001b[0m\u001b[0;36m6\u001b[0m\u001b[0;34m]\u001b[0m\u001b[0;34m,\u001b[0m \u001b[0;34m[\u001b[0m\u001b[0;34m\"valve\"\u001b[0m\u001b[0;34m]\u001b[0m\u001b[0;34m)\u001b[0m\u001b[0;34m\u001b[0m\u001b[0;34m\u001b[0m\u001b[0m\n\u001b[0m\u001b[1;32m      3\u001b[0m \u001b[0mdf\u001b[0m\u001b[0;34m.\u001b[0m\u001b[0mhead\u001b[0m\u001b[0;34m(\u001b[0m\u001b[0;34m)\u001b[0m\u001b[0;34m\u001b[0m\u001b[0;34m\u001b[0m\u001b[0m\n\u001b[1;32m      4\u001b[0m \u001b[0;34m\u001b[0m\u001b[0m\n",
      "\u001b[0;31mNameError\u001b[0m: name 'get_all_sounds' is not defined"
     ]
    }
   ],
   "source": [
    "\n",
    "\n"
   ]
  },
  {
   "cell_type": "code",
   "execution_count": null,
   "id": "infectious-drunk",
   "metadata": {},
   "outputs": [],
   "source": []
  }
 ],
 "metadata": {
  "kernelspec": {
   "display_name": "Python 3",
   "language": "python",
   "name": "python3"
  },
  "language_info": {
   "codemirror_mode": {
    "name": "ipython",
    "version": 3
   },
   "file_extension": ".py",
   "mimetype": "text/x-python",
   "name": "python",
   "nbconvert_exporter": "python",
   "pygments_lexer": "ipython3",
   "version": "3.7.7"
  }
 },
 "nbformat": 4,
 "nbformat_minor": 5
}
