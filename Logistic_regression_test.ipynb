{
 "cells": [
  {
   "cell_type": "code",
   "execution_count": 5,
   "id": "interpreted-brooks",
   "metadata": {},
   "outputs": [],
   "source": [
    "#import of libraries\n",
    "import pandas as pd\n",
    "import numpy as np\n",
    "import sklearn\n",
    "from sklearn.model_selection import train_test_split\n",
    "from sklearn import preprocessing\n",
    "import seaborn as sn\n",
    "import matplotlib.pyplot as plt"
   ]
  },
  {
   "cell_type": "code",
   "execution_count": 6,
   "id": "pressed-maker",
   "metadata": {},
   "outputs": [],
   "source": [
    "df = pd.read_csv('data_audio_f_mean.csv')"
   ]
  },
  {
   "cell_type": "code",
   "execution_count": 7,
   "id": "statistical-plain",
   "metadata": {},
   "outputs": [],
   "source": [
    "df_test = df.iloc[:, 5:19]\n",
    "df_test[\"target\"].replace({\"abnormal\": \"1\", \"normal\": \"0\"}, inplace=True)\n",
    "df_test = df_test.astype({\"target\": int})\n",
    "y = df_test['target']\n",
    "df_test = df_test.drop('target', 1)"
   ]
  },
  {
   "cell_type": "code",
   "execution_count": 20,
   "id": "running-cameroon",
   "metadata": {},
   "outputs": [
    {
     "data": {
      "text/html": [
       "<div>\n",
       "<style scoped>\n",
       "    .dataframe tbody tr th:only-of-type {\n",
       "        vertical-align: middle;\n",
       "    }\n",
       "\n",
       "    .dataframe tbody tr th {\n",
       "        vertical-align: top;\n",
       "    }\n",
       "\n",
       "    .dataframe thead th {\n",
       "        text-align: right;\n",
       "    }\n",
       "</style>\n",
       "<table border=\"1\" class=\"dataframe\">\n",
       "  <thead>\n",
       "    <tr style=\"text-align: right;\">\n",
       "      <th></th>\n",
       "      <th>spectogram</th>\n",
       "      <th>mel_spectogram</th>\n",
       "      <th>chromagram</th>\n",
       "      <th>chromagram_cq</th>\n",
       "      <th>chromagram_cens</th>\n",
       "      <th>mfcc</th>\n",
       "      <th>rms</th>\n",
       "      <th>spectral_centroid</th>\n",
       "      <th>spectral_bandwidth</th>\n",
       "      <th>spectral_contrast</th>\n",
       "      <th>spectral_flatness</th>\n",
       "      <th>roll_off_frequency</th>\n",
       "      <th>tonnetz</th>\n",
       "    </tr>\n",
       "  </thead>\n",
       "  <tbody>\n",
       "    <tr>\n",
       "      <th>0</th>\n",
       "      <td>0.095985</td>\n",
       "      <td>0.032898</td>\n",
       "      <td>0.598389</td>\n",
       "      <td>0.335931</td>\n",
       "      <td>0.251026</td>\n",
       "      <td>-4.151321</td>\n",
       "      <td>0.007211</td>\n",
       "      <td>1391.829492</td>\n",
       "      <td>1770.435764</td>\n",
       "      <td>23.832949</td>\n",
       "      <td>0.000225</td>\n",
       "      <td>5660.559507</td>\n",
       "      <td>0.065789</td>\n",
       "    </tr>\n",
       "    <tr>\n",
       "      <th>1</th>\n",
       "      <td>0.083133</td>\n",
       "      <td>0.034875</td>\n",
       "      <td>0.549378</td>\n",
       "      <td>0.386137</td>\n",
       "      <td>0.243251</td>\n",
       "      <td>-4.259758</td>\n",
       "      <td>0.007428</td>\n",
       "      <td>1127.738463</td>\n",
       "      <td>1574.488895</td>\n",
       "      <td>24.478842</td>\n",
       "      <td>0.000103</td>\n",
       "      <td>5120.156046</td>\n",
       "      <td>0.024099</td>\n",
       "    </tr>\n",
       "    <tr>\n",
       "      <th>2</th>\n",
       "      <td>0.120339</td>\n",
       "      <td>0.027383</td>\n",
       "      <td>0.776584</td>\n",
       "      <td>0.321334</td>\n",
       "      <td>0.255388</td>\n",
       "      <td>-3.331495</td>\n",
       "      <td>0.006812</td>\n",
       "      <td>1804.463937</td>\n",
       "      <td>1813.068302</td>\n",
       "      <td>22.781830</td>\n",
       "      <td>0.000449</td>\n",
       "      <td>5696.131759</td>\n",
       "      <td>0.076063</td>\n",
       "    </tr>\n",
       "    <tr>\n",
       "      <th>3</th>\n",
       "      <td>0.095124</td>\n",
       "      <td>0.046161</td>\n",
       "      <td>0.757323</td>\n",
       "      <td>0.373222</td>\n",
       "      <td>0.246073</td>\n",
       "      <td>-3.485691</td>\n",
       "      <td>0.008451</td>\n",
       "      <td>893.927245</td>\n",
       "      <td>1230.738677</td>\n",
       "      <td>21.108826</td>\n",
       "      <td>0.000061</td>\n",
       "      <td>3657.546948</td>\n",
       "      <td>0.044300</td>\n",
       "    </tr>\n",
       "    <tr>\n",
       "      <th>4</th>\n",
       "      <td>0.132093</td>\n",
       "      <td>0.023357</td>\n",
       "      <td>0.862880</td>\n",
       "      <td>0.295585</td>\n",
       "      <td>0.250950</td>\n",
       "      <td>-3.539014</td>\n",
       "      <td>0.006496</td>\n",
       "      <td>2297.372342</td>\n",
       "      <td>1980.079305</td>\n",
       "      <td>22.923389</td>\n",
       "      <td>0.000795</td>\n",
       "      <td>6358.914758</td>\n",
       "      <td>0.077573</td>\n",
       "    </tr>\n",
       "  </tbody>\n",
       "</table>\n",
       "</div>"
      ],
      "text/plain": [
       "   spectogram  mel_spectogram  chromagram  chromagram_cq  chromagram_cens  \\\n",
       "0    0.095985        0.032898    0.598389       0.335931         0.251026   \n",
       "1    0.083133        0.034875    0.549378       0.386137         0.243251   \n",
       "2    0.120339        0.027383    0.776584       0.321334         0.255388   \n",
       "3    0.095124        0.046161    0.757323       0.373222         0.246073   \n",
       "4    0.132093        0.023357    0.862880       0.295585         0.250950   \n",
       "\n",
       "       mfcc       rms  spectral_centroid  spectral_bandwidth  \\\n",
       "0 -4.151321  0.007211        1391.829492         1770.435764   \n",
       "1 -4.259758  0.007428        1127.738463         1574.488895   \n",
       "2 -3.331495  0.006812        1804.463937         1813.068302   \n",
       "3 -3.485691  0.008451         893.927245         1230.738677   \n",
       "4 -3.539014  0.006496        2297.372342         1980.079305   \n",
       "\n",
       "   spectral_contrast  spectral_flatness  roll_off_frequency   tonnetz  \n",
       "0          23.832949           0.000225         5660.559507  0.065789  \n",
       "1          24.478842           0.000103         5120.156046  0.024099  \n",
       "2          22.781830           0.000449         5696.131759  0.076063  \n",
       "3          21.108826           0.000061         3657.546948  0.044300  \n",
       "4          22.923389           0.000795         6358.914758  0.077573  "
      ]
     },
     "execution_count": 20,
     "metadata": {},
     "output_type": "execute_result"
    }
   ],
   "source": [
    "df_test.head()"
   ]
  },
  {
   "cell_type": "code",
   "execution_count": 8,
   "id": "environmental-bones",
   "metadata": {},
   "outputs": [
    {
     "name": "stdout",
     "output_type": "stream",
     "text": [
      "(37839, 13) (37839,)\n",
      "(16218, 13) (16218,)\n"
     ]
    }
   ],
   "source": [
    "# Split dataframe into random train and test subsets\n",
    "\n",
    "X_train, X_test, Y_train, Y_test = train_test_split(\n",
    "    df_test,\n",
    "    y,\n",
    "    test_size=0.3,\n",
    "    random_state=200\n",
    ")\n",
    "\n",
    "print(X_train.shape, Y_train.shape)\n",
    "print(X_test.shape, Y_test.shape)"
   ]
  },
  {
   "cell_type": "code",
   "execution_count": 9,
   "id": "opposed-thread",
   "metadata": {},
   "outputs": [],
   "source": [
    "# Scale the features\n",
    "from sklearn.preprocessing import StandardScaler\n",
    "\n",
    "sc = StandardScaler()\n",
    "\n",
    "X_train = sc.fit_transform(X_train)\n",
    "X_test = sc.transform(X_test)"
   ]
  },
  {
   "cell_type": "code",
   "execution_count": 10,
   "id": "raised-chorus",
   "metadata": {},
   "outputs": [
    {
     "data": {
      "text/plain": [
       "array([[-0.75259807, -0.70132091, -0.88301204, ...,  0.02100727,\n",
       "         0.85888861,  1.53901887],\n",
       "       [-1.37427422, -1.02184999,  0.5206427 , ..., -0.73174977,\n",
       "        -1.67732932, -0.78779415],\n",
       "       [ 0.11584301,  1.324338  ,  0.86883593, ..., -1.17428975,\n",
       "        -2.21764812, -0.1054937 ],\n",
       "       ...,\n",
       "       [ 0.44183367,  1.63590116,  0.55654429, ..., -1.08476386,\n",
       "        -1.46436344, -0.25394486],\n",
       "       [ 2.06419266,  0.57257659,  0.28834697, ...,  0.84528823,\n",
       "         0.7097828 ,  0.21754029],\n",
       "       [ 1.38794229,  0.86363985,  1.14577332, ...,  0.16160746,\n",
       "         0.26263038,  0.39783136]])"
      ]
     },
     "execution_count": 10,
     "metadata": {},
     "output_type": "execute_result"
    }
   ],
   "source": [
    "X_train"
   ]
  },
  {
   "cell_type": "code",
   "execution_count": 11,
   "id": "federal-ontario",
   "metadata": {},
   "outputs": [
    {
     "data": {
      "text/plain": [
       "LogisticRegression()"
      ]
     },
     "execution_count": 11,
     "metadata": {},
     "output_type": "execute_result"
    }
   ],
   "source": [
    "# Import the model\n",
    "from sklearn.linear_model import LogisticRegression\n",
    "\n",
    "# Declare an instance of it\n",
    "classifier = LogisticRegression(solver='lbfgs')\n",
    "\n",
    "# Fit the model\n",
    "classifier.fit(X_train, Y_train)"
   ]
  },
  {
   "cell_type": "code",
   "execution_count": 13,
   "id": "graduate-contemporary",
   "metadata": {},
   "outputs": [
    {
     "data": {
      "text/plain": [
       "0.8349981502034776"
      ]
     },
     "execution_count": 13,
     "metadata": {},
     "output_type": "execute_result"
    }
   ],
   "source": [
    "# Evaluate the model\n",
    "classifier.score(X_test, Y_test)"
   ]
  },
  {
   "cell_type": "code",
   "execution_count": 15,
   "id": "animated-observation",
   "metadata": {},
   "outputs": [],
   "source": [
    "y_pred = classifier.predict(X_test)"
   ]
  },
  {
   "cell_type": "code",
   "execution_count": 16,
   "id": "filled-mumbai",
   "metadata": {},
   "outputs": [
    {
     "name": "stdout",
     "output_type": "stream",
     "text": [
      "              precision    recall  f1-score   support\n",
      "\n",
      "           0       0.83      1.00      0.91     13218\n",
      "           1       0.87      0.13      0.22      3000\n",
      "\n",
      "    accuracy                           0.83     16218\n",
      "   macro avg       0.85      0.56      0.56     16218\n",
      "weighted avg       0.84      0.83      0.78     16218\n",
      "\n"
     ]
    }
   ],
   "source": [
    "from sklearn.metrics import classification_report\n",
    "print(classification_report(Y_test,y_pred))"
   ]
  },
  {
   "cell_type": "code",
   "execution_count": 18,
   "id": "continuous-storm",
   "metadata": {},
   "outputs": [
    {
     "data": {
      "image/png": "[encoded data removed]",
      "text/plain": [
       "<Figure size 504x504 with 1 Axes>"
      ]
     },
     "metadata": {
      "needs_background": "light"
     },
     "output_type": "display_data"
    }
   ],
   "source": [
    "from sklearn.metrics import precision_recall_fscore_support\n",
    "\n",
    "def plot_classification_report(y_tru, y_prd, figsize=(7, 7), ax=None):\n",
    "\n",
    "    plt.figure(figsize=figsize)\n",
    "\n",
    "    xticks = ['precision', 'recall', 'f1-score', 'support']\n",
    "    yticks = list(np.unique(y_tru))\n",
    "    yticks += ['avg']\n",
    "\n",
    "    rep = np.array(precision_recall_fscore_support(y_tru, y_prd)).T\n",
    "    avg = np.mean(rep, axis=0)\n",
    "    avg[-1] = np.sum(rep[:, -1])\n",
    "    rep = np.insert(rep, rep.shape[0], avg, axis=0)\n",
    "\n",
    "    sn.heatmap(rep,\n",
    "                annot=True, \n",
    "                cbar=False, \n",
    "                xticklabels=xticks, \n",
    "                yticklabels=yticks,\n",
    "                ax=ax)\n",
    "\n",
    "plot_classification_report(Y_test, y_pred)"
   ]
  },
  {
   "cell_type": "code",
   "execution_count": null,
   "id": "headed-lecture",
   "metadata": {},
   "outputs": [],
   "source": []
  }
 ],
 "metadata": {
  "kernelspec": {
   "display_name": "Python 3",
   "language": "python",
   "name": "python3"
  },
  "language_info": {
   "codemirror_mode": {
    "name": "ipython",
    "version": 3
   },
   "file_extension": ".py",
   "mimetype": "text/x-python",
   "name": "python",
   "nbconvert_exporter": "python",
   "pygments_lexer": "ipython3",
   "version": "3.7.7"
  }
 },
 "nbformat": 4,
 "nbformat_minor": 5
}
