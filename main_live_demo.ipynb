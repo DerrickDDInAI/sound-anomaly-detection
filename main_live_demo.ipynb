{
 "cells": [
  {
   "cell_type": "markdown",
   "id": "available-mayor",
   "metadata": {
    "slideshow": {
     "slide_type": "slide"
    }
   },
   "source": [
    "# Sound Anomaly Detection\n",
    "\n",
    "Python program to \n",
    "1. Load sounds of factory machines\n",
    "2. Use a machine learning model \n",
    "   to predict whether the machine is defective (output: normal O or abnormal 1)\n",
    "   from the sound (input)\n",
    "3. If the machine is predicted to be abnormal: as a first check, the user can listen\n",
    "   - the pre-recorded sound of the machine when it is normal\n",
    "   - the current sound of the machine\n",
    "\n",
    "See README file for more information.\n"
   ]
  },
  {
   "cell_type": "markdown",
   "id": "distributed-aggregate",
   "metadata": {
    "slideshow": {
     "slide_type": "slide"
    }
   },
   "source": [
    "## Import"
   ]
  },
  {
   "cell_type": "code",
   "execution_count": 1,
   "id": "documented-wilson",
   "metadata": {
    "slideshow": {
     "slide_type": "fragment"
    }
   },
   "outputs": [],
   "source": [
    "# =====================================================================\n",
    "# Import\n",
    "# =====================================================================\n",
    "\n",
    "# Import internal modules\n",
    "import os.path\n",
    "import joblib\n",
    "import time\n",
    "import random\n",
    "from typing import List\n",
    "from datetime import datetime\n",
    "\n",
    "\n",
    "# Import 3rd party modules\n",
    "import pandas as pd\n",
    "import numpy as np\n",
    "from sklearn.model_selection import train_test_split, GridSearchCV\n",
    "from sklearn.metrics import classification_report\n",
    "import IPython.display as ipd\n",
    "from IPython.display import Markdown, clear_output\n",
    "import ipywidgets as widgets"
   ]
  },
  {
   "cell_type": "markdown",
   "id": "filled-horizon",
   "metadata": {
    "slideshow": {
     "slide_type": "slide"
    }
   },
   "source": [
    "## Functions"
   ]
  },
  {
   "cell_type": "code",
   "execution_count": 2,
   "id": "polish-death",
   "metadata": {
    "scrolled": false,
    "slideshow": {
     "slide_type": "subslide"
    }
   },
   "outputs": [],
   "source": [
    "def load_model(filename: str) -> GridSearchCV:\n",
    "    \"\"\"\n",
    "    Function to load a machine learning model \n",
    "    from core/assets/data directory\n",
    "    * param: filename of model\n",
    "    \"\"\"\n",
    "    model_path = os.path.join(\"core\", \"assets\", \"data\", filename)\n",
    "\n",
    "    return joblib.load(model_path)\n",
    "\n",
    "\n",
    "def listen_sounds(_):\n",
    "    # linking function with output\n",
    "    with listen_out:\n",
    "        # what happens when we press the button\n",
    "        clear_output()\n",
    "        # Listen to current sound of machine\n",
    "        print(\"Current sound\")\n",
    "        current_sound_path = os.path.join(\"core\",\n",
    "                     *df.loc[[abnormal_machine_dropdown.value]].sound_path.values[0].split(\"\\\\\"))\n",
    "        ipd.display(ipd.Audio(current_sound_path)) # ipd.display() to display multiple Audio objects at once\n",
    "\n",
    "        # Listen to pre-recorded normal sound\n",
    "        print(\"Pre-recorded normal sound\")\n",
    "        normal_sound = df.loc[\n",
    "            (df.machine_type == df_pred_abnormal.loc[[abnormal_machine_dropdown.value]].machine_type.values[0]) & \n",
    "            (df.noise_db == 0) & \n",
    "            (df.model_id == 0) & \n",
    "            (df.target == 0) & \n",
    "            (df.sound == \"00000000.wav\")\n",
    "        ].sound_path.values[0].split(\"\\\\\")\n",
    "        normal_sound_path = os.path.join(\"core\",\n",
    "                     *normal_sound)\n",
    "        ipd.display(ipd.Audio(normal_sound_path))\n",
    "\n",
    "def show_machine_info(_):\n",
    "    with machine_info_out:\n",
    "        clear_output()\n",
    "        display_cols = [\"machine_type\", \"model_id\", \"noise_db\", \"y_pred\", \"target\"]\n",
    "        display(df_pred_abnormal.loc[[abnormal_machine_dropdown.value]][display_cols])\n"
   ]
  },
  {
   "cell_type": "code",
   "execution_count": 3,
   "id": "corrected-accountability",
   "metadata": {},
   "outputs": [
    {
     "data": {
      "application/vnd.jupyter.widget-view+json": {
       "model_id": "40f540da3d664264835d443d5df1e892",
       "version_major": 2,
       "version_minor": 0
      },
      "text/plain": [
       "Tab(children=(VBox(children=(DatePicker(value=datetime.datetime(2021, 4, 2, 12, 9, 9, 841410), description='To…"
      ]
     },
     "metadata": {},
     "output_type": "display_data"
    }
   ],
   "source": [
    "# Get all sounds\n",
    "df = pd.read_csv(os.path.join(\"core\",\n",
    "                 \"assets\", \"data\", \"thread_csv_all.csv\"))\n",
    "\n",
    "# Feature engineering\n",
    "# Replace abnormal by 1, normal by 0\n",
    "df.target = df.target.apply(lambda x: 1 if x == \"abnormal\" else 0)\n",
    "\n",
    "# Feature selection\n",
    "# Select numeric columns\n",
    "selected_cols = df.select_dtypes(include=\"number\").columns.tolist()\n",
    "\n",
    "# Drop noise_db and model_id columns\n",
    "selected_cols.remove(\"noise_db\")\n",
    "selected_cols.remove(\"model_id\")\n",
    "selected_cols.remove(\"target\")\n",
    "\n",
    "# Select features X and target variable y\n",
    "X = df[selected_cols]\n",
    "y = df.target\n",
    "\n",
    "# Split into the same training and test sets\n",
    "# as we did when training our models\n",
    "# to test the best machine learning model on unseen data (test set)\n",
    "X_train, X_test, y_train, y_test = train_test_split(X,\n",
    "                                                    y,\n",
    "                                                    test_size=0.2,\n",
    "                                                    random_state=42,\n",
    "                                                    stratify=y\n",
    "                                                    )\n",
    "\n",
    "# Load best model\n",
    "loaded_model: GridSearchCV = load_model(\"best_model_all_features.joblib\")\n",
    "\n",
    "y_pred: np.ndarray = loaded_model.predict(X_test)\n",
    "\n",
    "# Create a DataFrame with true and predicted labels, keep the original index (to retrieve the sound)\n",
    "df_true_pred_test = pd.DataFrame(np.column_stack([y_test, y_pred]), index=y_test.index, columns=[\"y_test\", \"y_pred\"])\n",
    "\n",
    "# Get all sounds predicted as abnormal (class 1)\n",
    "y_pred_abnormal: np.ndarray = df_true_pred_test[df_true_pred_test.y_pred == 1]\n",
    "\n",
    "# Concatenate y_pred_abnormal with df to get all the sound information (including sound filepath)\n",
    "df_pred_abnormal = pd.concat([y_pred_abnormal, df], axis=1, join=\"inner\")\n",
    "\n",
    "# Calendar: date of today by default, user can select another day\n",
    "calendar = widgets.DatePicker(description='Today', value=datetime.today(), disabled=False)\n",
    "\n",
    "# Info about factory health (number of predicted abnormal)\n",
    "notification_out = widgets.Output()\n",
    "with notification_out:\n",
    "    display(Markdown(f\"**Notifications**\\n\"))\n",
    "\n",
    "# Layout of items\n",
    "items_layout = widgets.Layout(width='auto')\n",
    "notification_button = widgets.Button(description=f\"{df_pred_abnormal.shape[0]} machine(s) predicted abnormal!\", layout=items_layout, button_style='danger')\n",
    "\n",
    "# Dropdown menu for selecting predicted abnormal machine\n",
    "abnormal_machine_dropdown = widgets.Dropdown(\n",
    "    options=list(set(df_pred_abnormal.index)),\n",
    "    description='Sound ID',\n",
    "    disabled=False)\n",
    "\n",
    "# Info about the machine selected from dropdown menu\n",
    "## Set buttons, outputs, function and linkage\n",
    "machine_info_button = widgets.Button(description='Show machine info')\n",
    "machine_info_out = widgets.Output()\n",
    "listen_button = widgets.Button(description='Listen')\n",
    "listen_out = widgets.Output()\n",
    "\n",
    "## Link buttons and functions together with buttons'method\n",
    "machine_info_button.on_click(show_machine_info)\n",
    "listen_button.on_click(listen_sounds)\n",
    "        \n",
    "# Classification report\n",
    "class_report_markdown_out = widgets.Output()\n",
    "\n",
    "with class_report_markdown_out:\n",
    "    display(Markdown(\"**Classification Report**\\n\"))\n",
    "    print(classification_report(y_test, y_pred))\n",
    "\n",
    "# VBox or HBox\n",
    "home_box = widgets.VBox([calendar, notification_out, notification_button, abnormal_machine_dropdown, machine_info_button, machine_info_out, listen_button, listen_out,])\n",
    "classification_report_box = widgets.VBox([class_report_markdown_out])\n",
    "\n",
    "# Create list of boxes for the windows\n",
    "children = [home_box, classification_report_box]\n",
    "\n",
    "# Initiate tab\n",
    "tab = widgets.Tab()\n",
    "# setting the tab windows \n",
    "tab.children = children\n",
    "\n",
    "# Set title of windows\n",
    "tab.set_title(0, 'Home')\n",
    "tab.set_title(1, 'Classification Report')\n",
    "tab"
   ]
  }
 ],
 "metadata": {
  "celltoolbar": "Diaporama",
  "kernelspec": {
   "display_name": "Python 3",
   "language": "python",
   "name": "python3"
  },
  "language_info": {
   "codemirror_mode": {
    "name": "ipython",
    "version": 3
   },
   "file_extension": ".py",
   "mimetype": "text/x-python",
   "name": "python",
   "nbconvert_exporter": "python",
   "pygments_lexer": "ipython3",
   "version": "3.8.8"
  }
 },
 "nbformat": 4,
 "nbformat_minor": 5
}
