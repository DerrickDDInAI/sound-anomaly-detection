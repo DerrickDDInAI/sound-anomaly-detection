{
 "cells": [
  {
   "cell_type": "code",
   "execution_count": 135,
   "id": "controlling-louisiana",
   "metadata": {},
   "outputs": [],
   "source": [
    "import pandas as pd\n",
    "import numpy as np\n",
    "import sklearn\n",
    "from sklearn.model_selection import train_test_split\n",
    "from sklearn import preprocessing\n",
    "import seaborn as sn\n",
    "import matplotlib.pyplot as plt\n",
    "\n",
    "from imblearn.over_sampling import RandomOverSampler"
   ]
  },
  {
   "cell_type": "code",
   "execution_count": 136,
   "id": "adaptive-review",
   "metadata": {},
   "outputs": [],
   "source": [
    "df = pd.read_csv('test_sample_csv')"
   ]
  },
  {
   "cell_type": "code",
   "execution_count": 137,
   "id": "immediate-motion",
   "metadata": {},
   "outputs": [
    {
     "data": {
      "text/plain": [
       "(2703, 70)"
      ]
     },
     "execution_count": 137,
     "metadata": {},
     "output_type": "execute_result"
    }
   ],
   "source": [
    "df.shape"
   ]
  },
  {
   "cell_type": "code",
   "execution_count": 138,
   "id": "deadly-tenant",
   "metadata": {},
   "outputs": [
    {
     "name": "stdout",
     "output_type": "stream",
     "text": [
      "Class 0: 2165\n",
      "Class 1: 538\n",
      "Proportion: 4.02 : 1\n"
     ]
    },
    {
     "data": {
      "image/png": "[encoded data removed]",
      "text/plain": [
       "<Figure size 432x288 with 1 Axes>"
      ]
     },
     "metadata": {
      "needs_background": "light"
     },
     "output_type": "display_data"
    }
   ],
   "source": [
    "target_count = df.target.value_counts()\n",
    "print('Class 0:', target_count[0])\n",
    "print('Class 1:', target_count[1])\n",
    "print('Proportion:', round(target_count[0] / target_count[1], 2), ': 1')\n",
    "\n",
    "target_count.plot(kind='bar', title='Count (target)');"
   ]
  },
  {
   "cell_type": "code",
   "execution_count": 139,
   "id": "choice-paint",
   "metadata": {},
   "outputs": [],
   "source": [
    "df_test = df.iloc[:,5:30]\n",
    "df_test[\"target\"].replace({\"abnormal\": \"1\", \"normal\": \"0\"}, inplace=True)\n",
    "df_test = df_test.astype({\"target\": int})"
   ]
  },
  {
   "cell_type": "code",
   "execution_count": 140,
   "id": "prime-fraction",
   "metadata": {},
   "outputs": [
    {
     "data": {
      "text/html": [
       "<div>\n",
       "<style scoped>\n",
       "    .dataframe tbody tr th:only-of-type {\n",
       "        vertical-align: middle;\n",
       "    }\n",
       "\n",
       "    .dataframe tbody tr th {\n",
       "        vertical-align: top;\n",
       "    }\n",
       "\n",
       "    .dataframe thead th {\n",
       "        text-align: right;\n",
       "    }\n",
       "</style>\n",
       "<table border=\"1\" class=\"dataframe\">\n",
       "  <thead>\n",
       "    <tr style=\"text-align: right;\">\n",
       "      <th></th>\n",
       "      <th>noise_db</th>\n",
       "      <th>machine_type</th>\n",
       "      <th>model_id</th>\n",
       "      <th>sound</th>\n",
       "      <th>sound_path</th>\n",
       "      <th>target</th>\n",
       "      <th>spect_mean</th>\n",
       "      <th>spect_min</th>\n",
       "      <th>spect_max</th>\n",
       "      <th>spect_std</th>\n",
       "      <th>...</th>\n",
       "      <th>zero_crossing_rate_max</th>\n",
       "      <th>zero_crossing_rate_std</th>\n",
       "      <th>d_harmonic_mean</th>\n",
       "      <th>d_harmonic_min</th>\n",
       "      <th>d_harmonic_max</th>\n",
       "      <th>d_harmonic_std</th>\n",
       "      <th>d_percussive_mean</th>\n",
       "      <th>d_percussive_min</th>\n",
       "      <th>d_percussive_max</th>\n",
       "      <th>d_percussive_std</th>\n",
       "    </tr>\n",
       "  </thead>\n",
       "  <tbody>\n",
       "    <tr>\n",
       "      <th>0</th>\n",
       "      <td>-6</td>\n",
       "      <td>slider</td>\n",
       "      <td>6</td>\n",
       "      <td>00000325.wav</td>\n",
       "      <td>assets/sounds/-6_dB_slider/id_06/normal/000003...</td>\n",
       "      <td>normal</td>\n",
       "      <td>0.086186</td>\n",
       "      <td>1.850374e-10</td>\n",
       "      <td>8.282417</td>\n",
       "      <td>0.239661</td>\n",
       "      <td>...</td>\n",
       "      <td>0.183105</td>\n",
       "      <td>0.019458</td>\n",
       "      <td>0.051047</td>\n",
       "      <td>3.093022e-13</td>\n",
       "      <td>8.259317</td>\n",
       "      <td>0.196500</td>\n",
       "      <td>0.035139</td>\n",
       "      <td>8.307444e-11</td>\n",
       "      <td>3.125634</td>\n",
       "      <td>0.079335</td>\n",
       "    </tr>\n",
       "    <tr>\n",
       "      <th>1</th>\n",
       "      <td>0</td>\n",
       "      <td>pump</td>\n",
       "      <td>0</td>\n",
       "      <td>00000814.wav</td>\n",
       "      <td>assets/sounds/0_dB_pump/id_00/normal/00000814.wav</td>\n",
       "      <td>normal</td>\n",
       "      <td>0.064292</td>\n",
       "      <td>9.486077e-11</td>\n",
       "      <td>4.943036</td>\n",
       "      <td>0.152599</td>\n",
       "      <td>...</td>\n",
       "      <td>0.103516</td>\n",
       "      <td>0.011921</td>\n",
       "      <td>0.033057</td>\n",
       "      <td>1.974081e-13</td>\n",
       "      <td>2.383167</td>\n",
       "      <td>0.098131</td>\n",
       "      <td>0.031234</td>\n",
       "      <td>3.159423e-11</td>\n",
       "      <td>2.559869</td>\n",
       "      <td>0.068802</td>\n",
       "    </tr>\n",
       "    <tr>\n",
       "      <th>2</th>\n",
       "      <td>6</td>\n",
       "      <td>valve</td>\n",
       "      <td>0</td>\n",
       "      <td>00000928.wav</td>\n",
       "      <td>assets/sounds/6_dB_valve/id_00/normal/00000928...</td>\n",
       "      <td>normal</td>\n",
       "      <td>0.028409</td>\n",
       "      <td>6.772467e-11</td>\n",
       "      <td>1.246882</td>\n",
       "      <td>0.074859</td>\n",
       "      <td>...</td>\n",
       "      <td>0.242188</td>\n",
       "      <td>0.035117</td>\n",
       "      <td>0.012415</td>\n",
       "      <td>7.563213e-14</td>\n",
       "      <td>0.953090</td>\n",
       "      <td>0.039711</td>\n",
       "      <td>0.015994</td>\n",
       "      <td>4.018324e-11</td>\n",
       "      <td>1.243116</td>\n",
       "      <td>0.048474</td>\n",
       "    </tr>\n",
       "    <tr>\n",
       "      <th>3</th>\n",
       "      <td>-6</td>\n",
       "      <td>pump</td>\n",
       "      <td>6</td>\n",
       "      <td>00000043.wav</td>\n",
       "      <td>assets/sounds/-6_dB_pump/id_06/normal/00000043...</td>\n",
       "      <td>normal</td>\n",
       "      <td>0.099990</td>\n",
       "      <td>1.298539e-10</td>\n",
       "      <td>4.971423</td>\n",
       "      <td>0.284035</td>\n",
       "      <td>...</td>\n",
       "      <td>0.073730</td>\n",
       "      <td>0.005807</td>\n",
       "      <td>0.055119</td>\n",
       "      <td>5.787144e-14</td>\n",
       "      <td>4.255203</td>\n",
       "      <td>0.183855</td>\n",
       "      <td>0.044872</td>\n",
       "      <td>4.671323e-11</td>\n",
       "      <td>2.199901</td>\n",
       "      <td>0.119220</td>\n",
       "    </tr>\n",
       "    <tr>\n",
       "      <th>4</th>\n",
       "      <td>-6</td>\n",
       "      <td>pump</td>\n",
       "      <td>2</td>\n",
       "      <td>00000420.wav</td>\n",
       "      <td>assets/sounds/-6_dB_pump/id_02/normal/00000420...</td>\n",
       "      <td>normal</td>\n",
       "      <td>0.094911</td>\n",
       "      <td>6.309869e-11</td>\n",
       "      <td>4.607907</td>\n",
       "      <td>0.261325</td>\n",
       "      <td>...</td>\n",
       "      <td>0.075684</td>\n",
       "      <td>0.006278</td>\n",
       "      <td>0.052051</td>\n",
       "      <td>9.006482e-14</td>\n",
       "      <td>4.094114</td>\n",
       "      <td>0.171043</td>\n",
       "      <td>0.042860</td>\n",
       "      <td>4.865160e-11</td>\n",
       "      <td>2.621902</td>\n",
       "      <td>0.111749</td>\n",
       "    </tr>\n",
       "  </tbody>\n",
       "</table>\n",
       "<p>5 rows × 70 columns</p>\n",
       "</div>"
      ],
      "text/plain": [
       "   noise_db machine_type  model_id         sound  \\\n",
       "0        -6       slider         6  00000325.wav   \n",
       "1         0         pump         0  00000814.wav   \n",
       "2         6        valve         0  00000928.wav   \n",
       "3        -6         pump         6  00000043.wav   \n",
       "4        -6         pump         2  00000420.wav   \n",
       "\n",
       "                                          sound_path  target  spect_mean  \\\n",
       "0  assets/sounds/-6_dB_slider/id_06/normal/000003...  normal    0.086186   \n",
       "1  assets/sounds/0_dB_pump/id_00/normal/00000814.wav  normal    0.064292   \n",
       "2  assets/sounds/6_dB_valve/id_00/normal/00000928...  normal    0.028409   \n",
       "3  assets/sounds/-6_dB_pump/id_06/normal/00000043...  normal    0.099990   \n",
       "4  assets/sounds/-6_dB_pump/id_02/normal/00000420...  normal    0.094911   \n",
       "\n",
       "      spect_min  spect_max  spect_std  ...  zero_crossing_rate_max  \\\n",
       "0  1.850374e-10   8.282417   0.239661  ...                0.183105   \n",
       "1  9.486077e-11   4.943036   0.152599  ...                0.103516   \n",
       "2  6.772467e-11   1.246882   0.074859  ...                0.242188   \n",
       "3  1.298539e-10   4.971423   0.284035  ...                0.073730   \n",
       "4  6.309869e-11   4.607907   0.261325  ...                0.075684   \n",
       "\n",
       "   zero_crossing_rate_std  d_harmonic_mean  d_harmonic_min  d_harmonic_max  \\\n",
       "0                0.019458         0.051047    3.093022e-13        8.259317   \n",
       "1                0.011921         0.033057    1.974081e-13        2.383167   \n",
       "2                0.035117         0.012415    7.563213e-14        0.953090   \n",
       "3                0.005807         0.055119    5.787144e-14        4.255203   \n",
       "4                0.006278         0.052051    9.006482e-14        4.094114   \n",
       "\n",
       "   d_harmonic_std  d_percussive_mean  d_percussive_min  d_percussive_max  \\\n",
       "0        0.196500           0.035139      8.307444e-11          3.125634   \n",
       "1        0.098131           0.031234      3.159423e-11          2.559869   \n",
       "2        0.039711           0.015994      4.018324e-11          1.243116   \n",
       "3        0.183855           0.044872      4.671323e-11          2.199901   \n",
       "4        0.171043           0.042860      4.865160e-11          2.621902   \n",
       "\n",
       "   d_percussive_std  \n",
       "0          0.079335  \n",
       "1          0.068802  \n",
       "2          0.048474  \n",
       "3          0.119220  \n",
       "4          0.111749  \n",
       "\n",
       "[5 rows x 70 columns]"
      ]
     },
     "execution_count": 140,
     "metadata": {},
     "output_type": "execute_result"
    }
   ],
   "source": [
    "df.head()"
   ]
  },
  {
   "cell_type": "code",
   "execution_count": 141,
   "id": "recreational-youth",
   "metadata": {},
   "outputs": [],
   "source": [
    "y = df_test['target']\n",
    "df_test = df_test.drop('target', 1)"
   ]
  },
  {
   "cell_type": "code",
   "execution_count": 142,
   "id": "typical-converter",
   "metadata": {},
   "outputs": [],
   "source": [
    "from imblearn.over_sampling import RandomOverSampler\n",
    "oversample = RandomOverSampler(sampling_strategy='auto')"
   ]
  },
  {
   "cell_type": "code",
   "execution_count": 143,
   "id": "copyrighted-abraham",
   "metadata": {},
   "outputs": [
    {
     "data": {
      "text/html": [
       "<div>\n",
       "<style scoped>\n",
       "    .dataframe tbody tr th:only-of-type {\n",
       "        vertical-align: middle;\n",
       "    }\n",
       "\n",
       "    .dataframe tbody tr th {\n",
       "        vertical-align: top;\n",
       "    }\n",
       "\n",
       "    .dataframe thead th {\n",
       "        text-align: right;\n",
       "    }\n",
       "</style>\n",
       "<table border=\"1\" class=\"dataframe\">\n",
       "  <thead>\n",
       "    <tr style=\"text-align: right;\">\n",
       "      <th></th>\n",
       "      <th>spect_mean</th>\n",
       "      <th>spect_min</th>\n",
       "      <th>spect_max</th>\n",
       "      <th>spect_std</th>\n",
       "      <th>mel_spect_mean</th>\n",
       "      <th>mel_spect_min</th>\n",
       "      <th>mel_spect_max</th>\n",
       "      <th>mel_spect_std</th>\n",
       "      <th>chroma_mean</th>\n",
       "      <th>chroma_min</th>\n",
       "      <th>...</th>\n",
       "      <th>chroma_cq_max</th>\n",
       "      <th>chroma_cq_std</th>\n",
       "      <th>chroma_cens_mean</th>\n",
       "      <th>chroma_cens_min</th>\n",
       "      <th>chroma_cens_max</th>\n",
       "      <th>chroma_cens_std</th>\n",
       "      <th>mfcc_mean</th>\n",
       "      <th>mfcc_min</th>\n",
       "      <th>mfcc_max</th>\n",
       "      <th>mfcc_std</th>\n",
       "    </tr>\n",
       "  </thead>\n",
       "  <tbody>\n",
       "    <tr>\n",
       "      <th>0</th>\n",
       "      <td>0.086186</td>\n",
       "      <td>1.850374e-10</td>\n",
       "      <td>8.282417</td>\n",
       "      <td>0.239661</td>\n",
       "      <td>0.019379</td>\n",
       "      <td>8.581393e-17</td>\n",
       "      <td>2.786268</td>\n",
       "      <td>0.078743</td>\n",
       "      <td>0.505052</td>\n",
       "      <td>0.148336</td>\n",
       "      <td>...</td>\n",
       "      <td>1.0</td>\n",
       "      <td>0.197034</td>\n",
       "      <td>0.276374</td>\n",
       "      <td>0.061001</td>\n",
       "      <td>0.482504</td>\n",
       "      <td>0.083370</td>\n",
       "      <td>-6.072476</td>\n",
       "      <td>-394.403290</td>\n",
       "      <td>174.488388</td>\n",
       "      <td>65.784767</td>\n",
       "    </tr>\n",
       "    <tr>\n",
       "      <th>1</th>\n",
       "      <td>0.064292</td>\n",
       "      <td>9.486077e-11</td>\n",
       "      <td>4.943036</td>\n",
       "      <td>0.152599</td>\n",
       "      <td>0.008011</td>\n",
       "      <td>4.531395e-17</td>\n",
       "      <td>1.582137</td>\n",
       "      <td>0.023850</td>\n",
       "      <td>0.788932</td>\n",
       "      <td>0.291779</td>\n",
       "      <td>...</td>\n",
       "      <td>1.0</td>\n",
       "      <td>0.193601</td>\n",
       "      <td>0.273447</td>\n",
       "      <td>0.026607</td>\n",
       "      <td>0.523059</td>\n",
       "      <td>0.092521</td>\n",
       "      <td>-5.583241</td>\n",
       "      <td>-424.262604</td>\n",
       "      <td>183.783417</td>\n",
       "      <td>69.504570</td>\n",
       "    </tr>\n",
       "    <tr>\n",
       "      <th>2</th>\n",
       "      <td>0.028409</td>\n",
       "      <td>6.772467e-11</td>\n",
       "      <td>1.246882</td>\n",
       "      <td>0.074859</td>\n",
       "      <td>0.001583</td>\n",
       "      <td>7.011302e-18</td>\n",
       "      <td>0.075360</td>\n",
       "      <td>0.004580</td>\n",
       "      <td>0.783146</td>\n",
       "      <td>0.398304</td>\n",
       "      <td>...</td>\n",
       "      <td>1.0</td>\n",
       "      <td>0.178200</td>\n",
       "      <td>0.277555</td>\n",
       "      <td>0.075984</td>\n",
       "      <td>0.500553</td>\n",
       "      <td>0.079351</td>\n",
       "      <td>-7.468907</td>\n",
       "      <td>-524.362366</td>\n",
       "      <td>202.562393</td>\n",
       "      <td>86.180298</td>\n",
       "    </tr>\n",
       "    <tr>\n",
       "      <th>3</th>\n",
       "      <td>0.099990</td>\n",
       "      <td>1.298539e-10</td>\n",
       "      <td>4.971423</td>\n",
       "      <td>0.284035</td>\n",
       "      <td>0.027485</td>\n",
       "      <td>1.376388e-16</td>\n",
       "      <td>1.310772</td>\n",
       "      <td>0.076738</td>\n",
       "      <td>0.785040</td>\n",
       "      <td>0.415580</td>\n",
       "      <td>...</td>\n",
       "      <td>1.0</td>\n",
       "      <td>0.179581</td>\n",
       "      <td>0.276391</td>\n",
       "      <td>0.135030</td>\n",
       "      <td>0.492550</td>\n",
       "      <td>0.083314</td>\n",
       "      <td>-4.352341</td>\n",
       "      <td>-380.365692</td>\n",
       "      <td>204.089294</td>\n",
       "      <td>68.040657</td>\n",
       "    </tr>\n",
       "    <tr>\n",
       "      <th>4</th>\n",
       "      <td>0.094911</td>\n",
       "      <td>6.309869e-11</td>\n",
       "      <td>4.607907</td>\n",
       "      <td>0.261325</td>\n",
       "      <td>0.022943</td>\n",
       "      <td>1.127883e-16</td>\n",
       "      <td>1.023681</td>\n",
       "      <td>0.067418</td>\n",
       "      <td>0.792248</td>\n",
       "      <td>0.443029</td>\n",
       "      <td>...</td>\n",
       "      <td>1.0</td>\n",
       "      <td>0.194761</td>\n",
       "      <td>0.273493</td>\n",
       "      <td>0.078243</td>\n",
       "      <td>0.479493</td>\n",
       "      <td>0.092385</td>\n",
       "      <td>-4.366798</td>\n",
       "      <td>-386.558868</td>\n",
       "      <td>208.120911</td>\n",
       "      <td>68.488121</td>\n",
       "    </tr>\n",
       "  </tbody>\n",
       "</table>\n",
       "<p>5 rows × 24 columns</p>\n",
       "</div>"
      ],
      "text/plain": [
       "   spect_mean     spect_min  spect_max  spect_std  mel_spect_mean  \\\n",
       "0    0.086186  1.850374e-10   8.282417   0.239661        0.019379   \n",
       "1    0.064292  9.486077e-11   4.943036   0.152599        0.008011   \n",
       "2    0.028409  6.772467e-11   1.246882   0.074859        0.001583   \n",
       "3    0.099990  1.298539e-10   4.971423   0.284035        0.027485   \n",
       "4    0.094911  6.309869e-11   4.607907   0.261325        0.022943   \n",
       "\n",
       "   mel_spect_min  mel_spect_max  mel_spect_std  chroma_mean  chroma_min  ...  \\\n",
       "0   8.581393e-17       2.786268       0.078743     0.505052    0.148336  ...   \n",
       "1   4.531395e-17       1.582137       0.023850     0.788932    0.291779  ...   \n",
       "2   7.011302e-18       0.075360       0.004580     0.783146    0.398304  ...   \n",
       "3   1.376388e-16       1.310772       0.076738     0.785040    0.415580  ...   \n",
       "4   1.127883e-16       1.023681       0.067418     0.792248    0.443029  ...   \n",
       "\n",
       "   chroma_cq_max  chroma_cq_std  chroma_cens_mean  chroma_cens_min  \\\n",
       "0            1.0       0.197034          0.276374         0.061001   \n",
       "1            1.0       0.193601          0.273447         0.026607   \n",
       "2            1.0       0.178200          0.277555         0.075984   \n",
       "3            1.0       0.179581          0.276391         0.135030   \n",
       "4            1.0       0.194761          0.273493         0.078243   \n",
       "\n",
       "   chroma_cens_max  chroma_cens_std  mfcc_mean    mfcc_min    mfcc_max  \\\n",
       "0         0.482504         0.083370  -6.072476 -394.403290  174.488388   \n",
       "1         0.523059         0.092521  -5.583241 -424.262604  183.783417   \n",
       "2         0.500553         0.079351  -7.468907 -524.362366  202.562393   \n",
       "3         0.492550         0.083314  -4.352341 -380.365692  204.089294   \n",
       "4         0.479493         0.092385  -4.366798 -386.558868  208.120911   \n",
       "\n",
       "    mfcc_std  \n",
       "0  65.784767  \n",
       "1  69.504570  \n",
       "2  86.180298  \n",
       "3  68.040657  \n",
       "4  68.488121  \n",
       "\n",
       "[5 rows x 24 columns]"
      ]
     },
     "execution_count": 143,
     "metadata": {},
     "output_type": "execute_result"
    }
   ],
   "source": [
    "df_test.head()"
   ]
  },
  {
   "cell_type": "code",
   "execution_count": 144,
   "id": "affiliated-vancouver",
   "metadata": {},
   "outputs": [
    {
     "data": {
      "text/plain": [
       "(2703, 24)"
      ]
     },
     "execution_count": 144,
     "metadata": {},
     "output_type": "execute_result"
    }
   ],
   "source": [
    "df_test.shape"
   ]
  },
  {
   "cell_type": "code",
   "execution_count": 145,
   "id": "english-persian",
   "metadata": {},
   "outputs": [],
   "source": [
    "# fit and apply the transform\n",
    "X_over, y_over = oversample.fit_resample(df_test, y)"
   ]
  },
  {
   "cell_type": "code",
   "execution_count": 146,
   "id": "accessory-difference",
   "metadata": {},
   "outputs": [
    {
     "name": "stdout",
     "output_type": "stream",
     "text": [
      "Class 0: 2165\n",
      "Class 1: 2165\n",
      "Proportion: 1.0 : 1\n"
     ]
    },
    {
     "data": {
      "image/png": "[encoded data removed]",
      "text/plain": [
       "<Figure size 432x288 with 1 Axes>"
      ]
     },
     "metadata": {
      "needs_background": "light"
     },
     "output_type": "display_data"
    }
   ],
   "source": [
    "target_count = y_over.value_counts()\n",
    "print('Class 0:', target_count[0])\n",
    "print('Class 1:', target_count[1])\n",
    "print('Proportion:', round(target_count[0] / target_count[1], 2), ': 1')\n",
    "\n",
    "target_count.plot(kind='bar', title='Count (target)');"
   ]
  },
  {
   "cell_type": "code",
   "execution_count": 159,
   "id": "serial-template",
   "metadata": {},
   "outputs": [
    {
     "name": "stdout",
     "output_type": "stream",
     "text": [
      "(3464, 24) (3464,)\n",
      "(866, 24) (866,)\n"
     ]
    }
   ],
   "source": [
    "# Split dataframe into random train and test subsets\n",
    "\n",
    "X_train, X_test, Y_train, Y_test = train_test_split(\n",
    "    X_over,\n",
    "    y_over,\n",
    "    test_size=0.2,\n",
    "    random_state=100\n",
    ")\n",
    "\n",
    "print(X_train.shape, Y_train.shape)\n",
    "print(X_test.shape, Y_test.shape)"
   ]
  },
  {
   "cell_type": "code",
   "execution_count": 160,
   "id": "traditional-angle",
   "metadata": {},
   "outputs": [
    {
     "data": {
      "text/plain": [
       "1718"
      ]
     },
     "execution_count": 160,
     "metadata": {},
     "output_type": "execute_result"
    }
   ],
   "source": [
    "Y_train.values.sum()"
   ]
  },
  {
   "cell_type": "code",
   "execution_count": 161,
   "id": "expired-brake",
   "metadata": {},
   "outputs": [],
   "source": [
    "from sklearn.ensemble import RandomForestClassifier\n",
    "\n",
    "random_forest = RandomForestClassifier(random_state = 5, n_estimators = 100,\n",
    "                                    criterion = 'gini')"
   ]
  },
  {
   "cell_type": "code",
   "execution_count": 162,
   "id": "variable-organ",
   "metadata": {},
   "outputs": [
    {
     "name": "stdout",
     "output_type": "stream",
     "text": [
      "0.9662216188302709\n"
     ]
    }
   ],
   "source": [
    "from sklearn.model_selection import cross_val_score\n",
    "# 10-Fold Cross validation\n",
    "print(np.mean(cross_val_score(random_forest, X_train, Y_train, cv=10)))"
   ]
  },
  {
   "cell_type": "code",
   "execution_count": 163,
   "id": "funded-logic",
   "metadata": {},
   "outputs": [
    {
     "data": {
      "text/plain": [
       "RandomForestClassifier(random_state=5)"
      ]
     },
     "execution_count": 163,
     "metadata": {},
     "output_type": "execute_result"
    }
   ],
   "source": [
    "random_forest.fit(X_train, Y_train)"
   ]
  },
  {
   "cell_type": "code",
   "execution_count": 164,
   "id": "persistent-shanghai",
   "metadata": {},
   "outputs": [
    {
     "data": {
      "text/plain": [
       "97.81"
      ]
     },
     "execution_count": 164,
     "metadata": {},
     "output_type": "execute_result"
    }
   ],
   "source": [
    "acc_random_forest = round(random_forest.score(X_test, Y_test) * 100, 2)\n",
    "acc_random_forest"
   ]
  },
  {
   "cell_type": "code",
   "execution_count": 165,
   "id": "gentle-india",
   "metadata": {},
   "outputs": [
    {
     "data": {
      "image/png": "[encoded data removed]",
      "text/plain": [
       "<Figure size 432x288 with 1 Axes>"
      ]
     },
     "metadata": {
      "needs_background": "light"
     },
     "output_type": "display_data"
    }
   ],
   "source": [
    "from sklearn.metrics import plot_roc_curve\n",
    "from sklearn.metrics import roc_auc_score\n",
    "\n",
    "roc = plot_roc_curve(random_forest, X_test, Y_test)"
   ]
  },
  {
   "cell_type": "code",
   "execution_count": 166,
   "id": "known-surface",
   "metadata": {},
   "outputs": [],
   "source": [
    "y_pred = random_forest.predict(X_test)"
   ]
  },
  {
   "cell_type": "code",
   "execution_count": 167,
   "id": "liable-spyware",
   "metadata": {},
   "outputs": [],
   "source": [
    "from sklearn.metrics import accuracy_score, f1_score, precision_score, recall_score,classification_report, confusion_matrix"
   ]
  },
  {
   "cell_type": "code",
   "execution_count": 168,
   "id": "scheduled-monthly",
   "metadata": {
    "jupyter": {
     "source_hidden": true
    }
   },
   "outputs": [
    {
     "name": "stdout",
     "output_type": "stream",
     "text": [
      "0.9780318960740726\n",
      "0.9781623931623931\n",
      "0.9779249624919244\n"
     ]
    }
   ],
   "source": [
    "print(f1_score(Y_test, y_pred, average=\"macro\"))\n",
    "print(precision_score(Y_test, y_pred, average=\"macro\"))\n",
    "print(recall_score(Y_test, y_pred, average=\"macro\")) "
   ]
  },
  {
   "cell_type": "code",
   "execution_count": 169,
   "id": "derived-trailer",
   "metadata": {},
   "outputs": [
    {
     "name": "stdout",
     "output_type": "stream",
     "text": [
      "              precision    recall  f1-score   support\n",
      "\n",
      "           0       0.98      0.97      0.98       419\n",
      "           1       0.98      0.98      0.98       447\n",
      "\n",
      "    accuracy                           0.98       866\n",
      "   macro avg       0.98      0.98      0.98       866\n",
      "weighted avg       0.98      0.98      0.98       866\n",
      "\n"
     ]
    }
   ],
   "source": [
    "from sklearn.metrics import classification_report\n",
    "print(classification_report(Y_test,y_pred))"
   ]
  },
  {
   "cell_type": "code",
   "execution_count": 170,
   "id": "descending-excellence",
   "metadata": {},
   "outputs": [
    {
     "data": {
      "image/png": "[encoded data removed]",
      "text/plain": [
       "<Figure size 432x288 with 2 Axes>"
      ]
     },
     "metadata": {
      "needs_background": "light"
     },
     "output_type": "display_data"
    }
   ],
   "source": [
    "from sklearn.metrics import plot_confusion_matrix\n",
    "plot_confusion_matrix(random_forest, X_test, Y_test);"
   ]
  },
  {
   "cell_type": "code",
   "execution_count": null,
   "id": "sacred-monitor",
   "metadata": {},
   "outputs": [],
   "source": []
  }
 ],
 "metadata": {
  "kernelspec": {
   "display_name": "Python 3",
   "language": "python",
   "name": "python3"
  },
  "language_info": {
   "codemirror_mode": {
    "name": "ipython",
    "version": 3
   },
   "file_extension": ".py",
   "mimetype": "text/x-python",
   "name": "python",
   "nbconvert_exporter": "python",
   "pygments_lexer": "ipython3",
   "version": "3.7.7"
  }
 },
 "nbformat": 4,
 "nbformat_minor": 5
}
