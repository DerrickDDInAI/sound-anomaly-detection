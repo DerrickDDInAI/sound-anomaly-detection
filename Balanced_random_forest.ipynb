{
 "cells": [
  {
   "cell_type": "code",
   "execution_count": 5,
   "id": "hundred-covering",
   "metadata": {},
   "outputs": [],
   "source": [
    "import pandas as pd\n",
    "import numpy as np\n",
    "import sklearn\n",
    "from sklearn.model_selection import train_test_split\n",
    "from sklearn import preprocessing\n",
    "import seaborn as sn\n",
    "import matplotlib.pyplot as plt"
   ]
  },
  {
   "cell_type": "code",
   "execution_count": 6,
   "id": "conscious-bridge",
   "metadata": {},
   "outputs": [
    {
     "data": {
      "text/plain": [
       "(54057, 70)"
      ]
     },
     "execution_count": 6,
     "metadata": {},
     "output_type": "execute_result"
    }
   ],
   "source": [
    "df = pd.read_csv('thread_csv_all.csv')\n",
    "df.shape"
   ]
  },
  {
   "cell_type": "code",
   "execution_count": 7,
   "id": "lonely-piece",
   "metadata": {},
   "outputs": [
    {
     "name": "stdout",
     "output_type": "stream",
     "text": [
      "Class 0: 44157\n",
      "Class 1: 9900\n",
      "Proportion: 4.46 : 1\n"
     ]
    },
    {
     "data": {
      "image/png": "[encoded data removed]",
      "text/plain": [
       "<Figure size 432x288 with 1 Axes>"
      ]
     },
     "metadata": {
      "needs_background": "light"
     },
     "output_type": "display_data"
    }
   ],
   "source": [
    "target_count = df.target.value_counts()\n",
    "print('Class 0:', target_count[0])\n",
    "print('Class 1:', target_count[1])\n",
    "print('Proportion:', round(target_count[0] / target_count[1], 2), ': 1')\n",
    "\n",
    "target_count.plot(kind='bar', title='Count (target)');"
   ]
  },
  {
   "cell_type": "code",
   "execution_count": 8,
   "id": "documentary-tackle",
   "metadata": {},
   "outputs": [],
   "source": [
    "# data prprocessing\n",
    "\n",
    "df_test = df.iloc[:,5:df.shape[1]]\n",
    "df_test[\"target\"].replace({\"abnormal\": \"1\", \"normal\": \"0\"}, inplace=True)\n",
    "df_test = df_test.astype({\"target\": int})\n",
    "y = df_test['target']\n",
    "df_test = df_test.drop('target', 1)"
   ]
  },
  {
   "cell_type": "code",
   "execution_count": 11,
   "id": "virtual-number",
   "metadata": {},
   "outputs": [
    {
     "name": "stdout",
     "output_type": "stream",
     "text": [
      "(43245, 64) (43245,)\n",
      "(10812, 64) (10812,)\n"
     ]
    }
   ],
   "source": [
    "# Split dataframe into random train and test subsets\n",
    "\n",
    "X_train, X_test, Y_train, Y_test = train_test_split(\n",
    "    df_test,\n",
    "    y,\n",
    "    test_size=0.2,\n",
    "    random_state=100\n",
    ")\n",
    "\n",
    "print(X_train.shape, Y_train.shape)\n",
    "print(X_test.shape, Y_test.shape)"
   ]
  },
  {
   "cell_type": "code",
   "execution_count": 12,
   "id": "occasional-moment",
   "metadata": {},
   "outputs": [],
   "source": [
    "from imblearn.ensemble import BalancedRandomForestClassifier\n",
    "balanced_random_forest = BalancedRandomForestClassifier(n_estimators = 100, random_state=50)"
   ]
  },
  {
   "cell_type": "code",
   "execution_count": 13,
   "id": "popular-argument",
   "metadata": {},
   "outputs": [
    {
     "data": {
      "text/plain": [
       "BalancedRandomForestClassifier(random_state=50)"
      ]
     },
     "execution_count": 13,
     "metadata": {},
     "output_type": "execute_result"
    }
   ],
   "source": [
    "balanced_random_forest.fit(X_train, Y_train)"
   ]
  },
  {
   "cell_type": "code",
   "execution_count": 15,
   "id": "practical-currency",
   "metadata": {},
   "outputs": [
    {
     "name": "stdout",
     "output_type": "stream",
     "text": [
      "0.9141095645757247\n"
     ]
    }
   ],
   "source": [
    "from sklearn.model_selection import RepeatedStratifiedKFold\n",
    "cv = RepeatedStratifiedKFold(n_splits=10, n_repeats=3, random_state=1)\n",
    "from sklearn.model_selection import cross_val_score\n",
    "# 10-Fold Cross validation\n",
    "print(np.mean(cross_val_score(balanced_random_forest, X_train, Y_train, cv=cv)))"
   ]
  },
  {
   "cell_type": "code",
   "execution_count": 17,
   "id": "narrative-fiction",
   "metadata": {},
   "outputs": [
    {
     "data": {
      "image/png": "[encoded data removed]",
      "text/plain": [
       "<Figure size 432x288 with 1 Axes>"
      ]
     },
     "metadata": {
      "needs_background": "light"
     },
     "output_type": "display_data"
    }
   ],
   "source": [
    "from sklearn.metrics import plot_roc_curve\n",
    "from sklearn.metrics import roc_auc_score\n",
    "\n",
    "roc = plot_roc_curve(balanced_random_forest, X_test, Y_test)"
   ]
  },
  {
   "cell_type": "code",
   "execution_count": 19,
   "id": "italic-warehouse",
   "metadata": {},
   "outputs": [],
   "source": [
    "y_pred = balanced_random_forest.predict(X_test)"
   ]
  },
  {
   "cell_type": "code",
   "execution_count": 20,
   "id": "combined-gazette",
   "metadata": {},
   "outputs": [
    {
     "name": "stdout",
     "output_type": "stream",
     "text": [
      "              precision    recall  f1-score   support\n",
      "\n",
      "           0       0.97      0.93      0.95      8818\n",
      "           1       0.73      0.85      0.79      1994\n",
      "\n",
      "    accuracy                           0.91     10812\n",
      "   macro avg       0.85      0.89      0.87     10812\n",
      "weighted avg       0.92      0.91      0.92     10812\n",
      "\n"
     ]
    }
   ],
   "source": [
    "from sklearn.metrics import classification_report\n",
    "print(classification_report(Y_test,y_pred))"
   ]
  },
  {
   "cell_type": "code",
   "execution_count": 21,
   "id": "coastal-statement",
   "metadata": {},
   "outputs": [],
   "source": [
    "import pickle\n",
    "# Save models\n",
    "filename = 'model.sav'\n",
    "pickle.dump(balanced_random_forest, open(filename, 'wb'))"
   ]
  },
  {
   "cell_type": "code",
   "execution_count": null,
   "id": "different-internship",
   "metadata": {},
   "outputs": [],
   "source": []
  }
 ],
 "metadata": {
  "kernelspec": {
   "display_name": "Python 3",
   "language": "python",
   "name": "python3"
  },
  "language_info": {
   "codemirror_mode": {
    "name": "ipython",
    "version": 3
   },
   "file_extension": ".py",
   "mimetype": "text/x-python",
   "name": "python",
   "nbconvert_exporter": "python",
   "pygments_lexer": "ipython3",
   "version": "3.7.7"
  }
 },
 "nbformat": 4,
 "nbformat_minor": 5
}
